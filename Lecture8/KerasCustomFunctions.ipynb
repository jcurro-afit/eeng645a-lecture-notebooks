{
 "cells": [
  {
   "cell_type": "code",
   "execution_count": 1,
   "metadata": {},
   "outputs": [],
   "source": [
    "import tensorflow as tf\n",
    "import tensorflow.keras as keras\n",
    "import tensorflow.keras.backend as K\n",
    "from tensorflow.keras.layers import Input, Dense, Add, Activation\n",
    "from tensorflow.keras.models import Model, load_model\n",
    "\n",
    "from IPython.display import SVG\n",
    "from tensorflow.keras.utils import model_to_dot"
   ]
  },
  {
   "cell_type": "markdown",
   "metadata": {},
   "source": [
    "# Keras Function API Advanced\n",
    "In this notebook we are going to go over crazy Functional API stuff and custom functions. For this example we will borrow Mnist again.\n",
    "\n",
    "Load Mnist"
   ]
  },
  {
   "cell_type": "code",
   "execution_count": 2,
   "metadata": {},
   "outputs": [
    {
     "data": {
      "text/plain": [
       "((60000, 784), (10000, 784))"
      ]
     },
     "execution_count": 2,
     "metadata": {},
     "output_type": "execute_result"
    }
   ],
   "source": [
    "from tensorflow.keras.datasets import mnist\n",
    "\n",
    "(train_images, train_labels), (test_images, test_labels) = mnist.load_data()\n",
    "\n",
    "train_images = train_images.reshape((60000, 28 * 28))\n",
    "train_images = train_images.astype('float32') / 255\n",
    "\n",
    "test_images = test_images.reshape((10000, 28 * 28))\n",
    "test_images = test_images.astype('float32') / 255\n",
    "\n",
    "train_images.shape, test_images.shape"
   ]
  },
  {
   "cell_type": "code",
   "execution_count": 3,
   "metadata": {},
   "outputs": [
    {
     "data": {
      "text/plain": [
       "((60000, 10), (10000, 10))"
      ]
     },
     "execution_count": 3,
     "metadata": {},
     "output_type": "execute_result"
    }
   ],
   "source": [
    "from tensorflow.keras.utils import to_categorical\n",
    "\n",
    "train_labels = to_categorical(train_labels)\n",
    "test_labels = to_categorical(test_labels)\n",
    "\n",
    "train_labels.shape, test_labels.shape"
   ]
  },
  {
   "cell_type": "markdown",
   "metadata": {},
   "source": [
    "# Multiple Inputs/Outputs\n",
    "So at this point I am going to say the custom functions I make won't make a lot of sense to solve Mnist better but they are a good example.\n",
    "\n",
    "For example I want to show how to handle multiple inputs. Thus I need two different input tensors for my model. Usually this would be different kinds of data like images and sequence data. However, for this example I am going to take the flattened Mnist imagest and split them down the middle into two different dense inputs."
   ]
  },
  {
   "cell_type": "code",
   "execution_count": 4,
   "metadata": {},
   "outputs": [],
   "source": [
    "middle = int(28 * 28 // 2)\n",
    "train_images1 = train_images[...,:middle]\n",
    "train_images2 = train_images[...,middle:]\n",
    "\n",
    "test_images1 = test_images[..., :middle]\n",
    "test_images2 = test_images[..., middle:]"
   ]
  },
  {
   "cell_type": "markdown",
   "metadata": {},
   "source": [
    "Now we can build a model that had two different inputs and outputs. Since the data is the same I will do the same thing with each input which is put them through some dense layers."
   ]
  },
  {
   "cell_type": "code",
   "execution_count": 5,
   "metadata": {},
   "outputs": [],
   "source": [
    "input_tensor1 = Input(shape=(middle,), name='input1')\n",
    "current_tensor1 = input_tensor1\n",
    "current_tensor1 = Dense(units=32, activation='relu')(current_tensor1)\n",
    "current_tensor1 = Dense(units=32, activation='relu')(current_tensor1)\n",
    "output_tensor1 = current_tensor1\n",
    "\n",
    "\n",
    "input_tensor2 = Input(shape=(middle,), name='input2')\n",
    "current_tensor2 = input_tensor2\n",
    "current_tensor2 = Dense(units=32, activation='relu')(current_tensor2)\n",
    "current_tensor2 = Dense(units=32, activation='relu')(current_tensor2)\n",
    "output_tensor2 = current_tensor2"
   ]
  },
  {
   "cell_type": "markdown",
   "metadata": {},
   "source": [
    "Now I need to combine the transformed versions of each of those tensors. In this case I decided to use an Add merge layer. Again since this problem is made up do not look too far into why I picked an Add merge layer."
   ]
  },
  {
   "cell_type": "code",
   "execution_count": 6,
   "metadata": {},
   "outputs": [],
   "source": [
    "current_tensor = Add()([output_tensor1, output_tensor2])\n",
    "current_tensor = Dense(units=10, activation='linear')(current_tensor)"
   ]
  },
  {
   "cell_type": "markdown",
   "metadata": {},
   "source": [
    "Finally I also wanted to have different outputs. However I am not sure what the different outputs would be, so I am just going to apply a slightly different activation function to the output and call it a new output"
   ]
  },
  {
   "cell_type": "code",
   "execution_count": 7,
   "metadata": {},
   "outputs": [],
   "source": [
    "output_tensor = Activation(activation='softmax', name='output1')(current_tensor)\n",
    "\n",
    "output_tensor_squared = Activation(activation=lambda x:x**2, name='output2')(current_tensor)"
   ]
  },
  {
   "cell_type": "markdown",
   "metadata": {},
   "source": [
    "Finally we need to put this all into one model. I need to remember the names I gave to the original inputs and the final outputs to make my model"
   ]
  },
  {
   "cell_type": "code",
   "execution_count": 8,
   "metadata": {
    "scrolled": true
   },
   "outputs": [
    {
     "name": "stdout",
     "output_type": "stream",
     "text": [
      "Model: \"model\"\n",
      "__________________________________________________________________________________________________\n",
      " Layer (type)                   Output Shape         Param #     Connected to                     \n",
      "==================================================================================================\n",
      " input1 (InputLayer)            [(None, 392)]        0           []                               \n",
      "                                                                                                  \n",
      " input2 (InputLayer)            [(None, 392)]        0           []                               \n",
      "                                                                                                  \n",
      " dense (Dense)                  (None, 32)           12576       ['input1[0][0]']                 \n",
      "                                                                                                  \n",
      " dense_2 (Dense)                (None, 32)           12576       ['input2[0][0]']                 \n",
      "                                                                                                  \n",
      " dense_1 (Dense)                (None, 32)           1056        ['dense[0][0]']                  \n",
      "                                                                                                  \n",
      " dense_3 (Dense)                (None, 32)           1056        ['dense_2[0][0]']                \n",
      "                                                                                                  \n",
      " add (Add)                      (None, 32)           0           ['dense_1[0][0]',                \n",
      "                                                                  'dense_3[0][0]']                \n",
      "                                                                                                  \n",
      " dense_4 (Dense)                (None, 10)           330         ['add[0][0]']                    \n",
      "                                                                                                  \n",
      " output1 (Activation)           (None, 10)           0           ['dense_4[0][0]']                \n",
      "                                                                                                  \n",
      " output2 (Activation)           (None, 10)           0           ['dense_4[0][0]']                \n",
      "                                                                                                  \n",
      "==================================================================================================\n",
      "Total params: 27,594\n",
      "Trainable params: 27,594\n",
      "Non-trainable params: 0\n",
      "__________________________________________________________________________________________________\n"
     ]
    }
   ],
   "source": [
    "model = Model([input_tensor1, input_tensor2], [output_tensor, output_tensor_squared])\n",
    "model.summary()"
   ]
  },
  {
   "cell_type": "markdown",
   "metadata": {},
   "source": [
    "this summary is hard to see so lets make a picture"
   ]
  },
  {
   "cell_type": "code",
   "execution_count": 9,
   "metadata": {},
   "outputs": [
    {
     "data": {
      "image/svg+xml": [
       "<svg xmlns=\"http://www.w3.org/2000/svg\" xmlns:xlink=\"http://www.w3.org/1999/xlink\" width=\"972pt\" height=\"653pt\" viewBox=\"0.00 0.00 700.00 470.00\">\n",
       "<g id=\"graph0\" class=\"graph\" transform=\"scale(0.72 0.72) rotate(0) translate(4 466)\">\n",
       "<title>G</title>\n",
       "<polygon fill=\"white\" stroke=\"transparent\" points=\"-4,4 -4,-466 696,-466 696,4 -4,4\"/>\n",
       "<!-- 140085935059824 -->\n",
       "<g id=\"node1\" class=\"node\">\n",
       "<title>140085935059824</title>\n",
       "<polygon fill=\"none\" stroke=\"black\" points=\"0,-415.5 0,-461.5 337,-461.5 337,-415.5 0,-415.5\"/>\n",
       "<text text-anchor=\"middle\" x=\"31.5\" y=\"-434.8\" font-family=\"Times,serif\" font-size=\"14.00\">input1</text>\n",
       "<polyline fill=\"none\" stroke=\"black\" points=\"63,-415.5 63,-461.5 \"/>\n",
       "<text text-anchor=\"middle\" x=\"110.5\" y=\"-434.8\" font-family=\"Times,serif\" font-size=\"14.00\">InputLayer</text>\n",
       "<polyline fill=\"none\" stroke=\"black\" points=\"158,-415.5 158,-461.5 \"/>\n",
       "<text text-anchor=\"middle\" x=\"192\" y=\"-446.3\" font-family=\"Times,serif\" font-size=\"14.00\">input:</text>\n",
       "<polyline fill=\"none\" stroke=\"black\" points=\"158,-438.5 226,-438.5 \"/>\n",
       "<text text-anchor=\"middle\" x=\"192\" y=\"-423.3\" font-family=\"Times,serif\" font-size=\"14.00\">output:</text>\n",
       "<polyline fill=\"none\" stroke=\"black\" points=\"226,-415.5 226,-461.5 \"/>\n",
       "<text text-anchor=\"middle\" x=\"281.5\" y=\"-446.3\" font-family=\"Times,serif\" font-size=\"14.00\">[(None, 392)]</text>\n",
       "<polyline fill=\"none\" stroke=\"black\" points=\"226,-438.5 337,-438.5 \"/>\n",
       "<text text-anchor=\"middle\" x=\"281.5\" y=\"-423.3\" font-family=\"Times,serif\" font-size=\"14.00\">[(None, 392)]</text>\n",
       "</g>\n",
       "<!-- 140083699496944 -->\n",
       "<g id=\"node3\" class=\"node\">\n",
       "<title>140083699496944</title>\n",
       "<polygon fill=\"none\" stroke=\"black\" points=\"44,-332.5 44,-378.5 333,-378.5 333,-332.5 44,-332.5\"/>\n",
       "<text text-anchor=\"middle\" x=\"73.5\" y=\"-351.8\" font-family=\"Times,serif\" font-size=\"14.00\">dense</text>\n",
       "<polyline fill=\"none\" stroke=\"black\" points=\"103,-332.5 103,-378.5 \"/>\n",
       "<text text-anchor=\"middle\" x=\"133.5\" y=\"-351.8\" font-family=\"Times,serif\" font-size=\"14.00\">Dense</text>\n",
       "<polyline fill=\"none\" stroke=\"black\" points=\"164,-332.5 164,-378.5 \"/>\n",
       "<text text-anchor=\"middle\" x=\"198\" y=\"-363.3\" font-family=\"Times,serif\" font-size=\"14.00\">input:</text>\n",
       "<polyline fill=\"none\" stroke=\"black\" points=\"164,-355.5 232,-355.5 \"/>\n",
       "<text text-anchor=\"middle\" x=\"198\" y=\"-340.3\" font-family=\"Times,serif\" font-size=\"14.00\">output:</text>\n",
       "<polyline fill=\"none\" stroke=\"black\" points=\"232,-332.5 232,-378.5 \"/>\n",
       "<text text-anchor=\"middle\" x=\"282.5\" y=\"-363.3\" font-family=\"Times,serif\" font-size=\"14.00\">(None, 392)</text>\n",
       "<polyline fill=\"none\" stroke=\"black\" points=\"232,-355.5 333,-355.5 \"/>\n",
       "<text text-anchor=\"middle\" x=\"282.5\" y=\"-340.3\" font-family=\"Times,serif\" font-size=\"14.00\">(None, 32)</text>\n",
       "</g>\n",
       "<!-- 140085935059824&#45;&gt;140083699496944 -->\n",
       "<g id=\"edge1\" class=\"edge\">\n",
       "<title>140085935059824-&gt;140083699496944</title>\n",
       "<path fill=\"none\" stroke=\"black\" d=\"M173.97,-415.37C176.02,-407.06 178.39,-397.45 180.62,-388.43\"/>\n",
       "<polygon fill=\"black\" stroke=\"black\" points=\"184.04,-389.15 183.04,-378.61 177.25,-387.48 184.04,-389.15\"/>\n",
       "</g>\n",
       "<!-- 140083658781888 -->\n",
       "<g id=\"node2\" class=\"node\">\n",
       "<title>140083658781888</title>\n",
       "<polygon fill=\"none\" stroke=\"black\" points=\"355,-415.5 355,-461.5 692,-461.5 692,-415.5 355,-415.5\"/>\n",
       "<text text-anchor=\"middle\" x=\"386.5\" y=\"-434.8\" font-family=\"Times,serif\" font-size=\"14.00\">input2</text>\n",
       "<polyline fill=\"none\" stroke=\"black\" points=\"418,-415.5 418,-461.5 \"/>\n",
       "<text text-anchor=\"middle\" x=\"465.5\" y=\"-434.8\" font-family=\"Times,serif\" font-size=\"14.00\">InputLayer</text>\n",
       "<polyline fill=\"none\" stroke=\"black\" points=\"513,-415.5 513,-461.5 \"/>\n",
       "<text text-anchor=\"middle\" x=\"547\" y=\"-446.3\" font-family=\"Times,serif\" font-size=\"14.00\">input:</text>\n",
       "<polyline fill=\"none\" stroke=\"black\" points=\"513,-438.5 581,-438.5 \"/>\n",
       "<text text-anchor=\"middle\" x=\"547\" y=\"-423.3\" font-family=\"Times,serif\" font-size=\"14.00\">output:</text>\n",
       "<polyline fill=\"none\" stroke=\"black\" points=\"581,-415.5 581,-461.5 \"/>\n",
       "<text text-anchor=\"middle\" x=\"636.5\" y=\"-446.3\" font-family=\"Times,serif\" font-size=\"14.00\">[(None, 392)]</text>\n",
       "<polyline fill=\"none\" stroke=\"black\" points=\"581,-438.5 692,-438.5 \"/>\n",
       "<text text-anchor=\"middle\" x=\"636.5\" y=\"-423.3\" font-family=\"Times,serif\" font-size=\"14.00\">[(None, 392)]</text>\n",
       "</g>\n",
       "<!-- 140083645661632 -->\n",
       "<g id=\"node4\" class=\"node\">\n",
       "<title>140083645661632</title>\n",
       "<polygon fill=\"none\" stroke=\"black\" points=\"361.5,-332.5 361.5,-378.5 665.5,-378.5 665.5,-332.5 361.5,-332.5\"/>\n",
       "<text text-anchor=\"middle\" x=\"398.5\" y=\"-351.8\" font-family=\"Times,serif\" font-size=\"14.00\">dense_2</text>\n",
       "<polyline fill=\"none\" stroke=\"black\" points=\"435.5,-332.5 435.5,-378.5 \"/>\n",
       "<text text-anchor=\"middle\" x=\"466\" y=\"-351.8\" font-family=\"Times,serif\" font-size=\"14.00\">Dense</text>\n",
       "<polyline fill=\"none\" stroke=\"black\" points=\"496.5,-332.5 496.5,-378.5 \"/>\n",
       "<text text-anchor=\"middle\" x=\"530.5\" y=\"-363.3\" font-family=\"Times,serif\" font-size=\"14.00\">input:</text>\n",
       "<polyline fill=\"none\" stroke=\"black\" points=\"496.5,-355.5 564.5,-355.5 \"/>\n",
       "<text text-anchor=\"middle\" x=\"530.5\" y=\"-340.3\" font-family=\"Times,serif\" font-size=\"14.00\">output:</text>\n",
       "<polyline fill=\"none\" stroke=\"black\" points=\"564.5,-332.5 564.5,-378.5 \"/>\n",
       "<text text-anchor=\"middle\" x=\"615\" y=\"-363.3\" font-family=\"Times,serif\" font-size=\"14.00\">(None, 392)</text>\n",
       "<polyline fill=\"none\" stroke=\"black\" points=\"564.5,-355.5 665.5,-355.5 \"/>\n",
       "<text text-anchor=\"middle\" x=\"615\" y=\"-340.3\" font-family=\"Times,serif\" font-size=\"14.00\">(None, 32)</text>\n",
       "</g>\n",
       "<!-- 140083658781888&#45;&gt;140083645661632 -->\n",
       "<g id=\"edge2\" class=\"edge\">\n",
       "<title>140083658781888-&gt;140083645661632</title>\n",
       "<path fill=\"none\" stroke=\"black\" d=\"M520.77,-415.37C519.75,-407.15 518.58,-397.66 517.48,-388.73\"/>\n",
       "<polygon fill=\"black\" stroke=\"black\" points=\"520.93,-388.1 516.23,-378.61 513.98,-388.96 520.93,-388.1\"/>\n",
       "</g>\n",
       "<!-- 140085935059248 -->\n",
       "<g id=\"node5\" class=\"node\">\n",
       "<title>140085935059248</title>\n",
       "<polygon fill=\"none\" stroke=\"black\" points=\"42,-249.5 42,-295.5 337,-295.5 337,-249.5 42,-249.5\"/>\n",
       "<text text-anchor=\"middle\" x=\"79\" y=\"-268.8\" font-family=\"Times,serif\" font-size=\"14.00\">dense_1</text>\n",
       "<polyline fill=\"none\" stroke=\"black\" points=\"116,-249.5 116,-295.5 \"/>\n",
       "<text text-anchor=\"middle\" x=\"146.5\" y=\"-268.8\" font-family=\"Times,serif\" font-size=\"14.00\">Dense</text>\n",
       "<polyline fill=\"none\" stroke=\"black\" points=\"177,-249.5 177,-295.5 \"/>\n",
       "<text text-anchor=\"middle\" x=\"211\" y=\"-280.3\" font-family=\"Times,serif\" font-size=\"14.00\">input:</text>\n",
       "<polyline fill=\"none\" stroke=\"black\" points=\"177,-272.5 245,-272.5 \"/>\n",
       "<text text-anchor=\"middle\" x=\"211\" y=\"-257.3\" font-family=\"Times,serif\" font-size=\"14.00\">output:</text>\n",
       "<polyline fill=\"none\" stroke=\"black\" points=\"245,-249.5 245,-295.5 \"/>\n",
       "<text text-anchor=\"middle\" x=\"291\" y=\"-280.3\" font-family=\"Times,serif\" font-size=\"14.00\">(None, 32)</text>\n",
       "<polyline fill=\"none\" stroke=\"black\" points=\"245,-272.5 337,-272.5 \"/>\n",
       "<text text-anchor=\"middle\" x=\"291\" y=\"-257.3\" font-family=\"Times,serif\" font-size=\"14.00\">(None, 32)</text>\n",
       "</g>\n",
       "<!-- 140083699496944&#45;&gt;140085935059248 -->\n",
       "<g id=\"edge3\" class=\"edge\">\n",
       "<title>140083699496944-&gt;140085935059248</title>\n",
       "<path fill=\"none\" stroke=\"black\" d=\"M188.77,-332.37C188.87,-324.15 188.99,-314.66 189.1,-305.73\"/>\n",
       "<polygon fill=\"black\" stroke=\"black\" points=\"192.6,-305.65 189.23,-295.61 185.6,-305.56 192.6,-305.65\"/>\n",
       "</g>\n",
       "<!-- 140083699498192 -->\n",
       "<g id=\"node6\" class=\"node\">\n",
       "<title>140083699498192</title>\n",
       "<polygon fill=\"none\" stroke=\"black\" points=\"360,-249.5 360,-295.5 655,-295.5 655,-249.5 360,-249.5\"/>\n",
       "<text text-anchor=\"middle\" x=\"397\" y=\"-268.8\" font-family=\"Times,serif\" font-size=\"14.00\">dense_3</text>\n",
       "<polyline fill=\"none\" stroke=\"black\" points=\"434,-249.5 434,-295.5 \"/>\n",
       "<text text-anchor=\"middle\" x=\"464.5\" y=\"-268.8\" font-family=\"Times,serif\" font-size=\"14.00\">Dense</text>\n",
       "<polyline fill=\"none\" stroke=\"black\" points=\"495,-249.5 495,-295.5 \"/>\n",
       "<text text-anchor=\"middle\" x=\"529\" y=\"-280.3\" font-family=\"Times,serif\" font-size=\"14.00\">input:</text>\n",
       "<polyline fill=\"none\" stroke=\"black\" points=\"495,-272.5 563,-272.5 \"/>\n",
       "<text text-anchor=\"middle\" x=\"529\" y=\"-257.3\" font-family=\"Times,serif\" font-size=\"14.00\">output:</text>\n",
       "<polyline fill=\"none\" stroke=\"black\" points=\"563,-249.5 563,-295.5 \"/>\n",
       "<text text-anchor=\"middle\" x=\"609\" y=\"-280.3\" font-family=\"Times,serif\" font-size=\"14.00\">(None, 32)</text>\n",
       "<polyline fill=\"none\" stroke=\"black\" points=\"563,-272.5 655,-272.5 \"/>\n",
       "<text text-anchor=\"middle\" x=\"609\" y=\"-257.3\" font-family=\"Times,serif\" font-size=\"14.00\">(None, 32)</text>\n",
       "</g>\n",
       "<!-- 140083645661632&#45;&gt;140083699498192 -->\n",
       "<g id=\"edge4\" class=\"edge\">\n",
       "<title>140083645661632-&gt;140083699498192</title>\n",
       "<path fill=\"none\" stroke=\"black\" d=\"M511.86,-332.37C511.25,-324.15 510.55,-314.66 509.89,-305.73\"/>\n",
       "<polygon fill=\"black\" stroke=\"black\" points=\"513.37,-305.32 509.14,-295.61 506.39,-305.84 513.37,-305.32\"/>\n",
       "</g>\n",
       "<!-- 140083699268672 -->\n",
       "<g id=\"node7\" class=\"node\">\n",
       "<title>140083699268672</title>\n",
       "<polygon fill=\"none\" stroke=\"black\" points=\"175,-166.5 175,-212.5 516,-212.5 516,-166.5 175,-166.5\"/>\n",
       "<text text-anchor=\"middle\" x=\"196.5\" y=\"-185.8\" font-family=\"Times,serif\" font-size=\"14.00\">add</text>\n",
       "<polyline fill=\"none\" stroke=\"black\" points=\"218,-166.5 218,-212.5 \"/>\n",
       "<text text-anchor=\"middle\" x=\"240\" y=\"-185.8\" font-family=\"Times,serif\" font-size=\"14.00\">Add</text>\n",
       "<polyline fill=\"none\" stroke=\"black\" points=\"262,-166.5 262,-212.5 \"/>\n",
       "<text text-anchor=\"middle\" x=\"296\" y=\"-197.3\" font-family=\"Times,serif\" font-size=\"14.00\">input:</text>\n",
       "<polyline fill=\"none\" stroke=\"black\" points=\"262,-189.5 330,-189.5 \"/>\n",
       "<text text-anchor=\"middle\" x=\"296\" y=\"-174.3\" font-family=\"Times,serif\" font-size=\"14.00\">output:</text>\n",
       "<polyline fill=\"none\" stroke=\"black\" points=\"330,-166.5 330,-212.5 \"/>\n",
       "<text text-anchor=\"middle\" x=\"423\" y=\"-197.3\" font-family=\"Times,serif\" font-size=\"14.00\">[(None, 32), (None, 32)]</text>\n",
       "<polyline fill=\"none\" stroke=\"black\" points=\"330,-189.5 516,-189.5 \"/>\n",
       "<text text-anchor=\"middle\" x=\"423\" y=\"-174.3\" font-family=\"Times,serif\" font-size=\"14.00\">(None, 32)</text>\n",
       "</g>\n",
       "<!-- 140085935059248&#45;&gt;140083699268672 -->\n",
       "<g id=\"edge5\" class=\"edge\">\n",
       "<title>140085935059248-&gt;140083699268672</title>\n",
       "<path fill=\"none\" stroke=\"black\" d=\"M232.13,-249.37C251.22,-239.46 273.89,-227.68 293.93,-217.28\"/>\n",
       "<polygon fill=\"black\" stroke=\"black\" points=\"295.66,-220.32 302.92,-212.61 292.44,-214.11 295.66,-220.32\"/>\n",
       "</g>\n",
       "<!-- 140083699498192&#45;&gt;140083699268672 -->\n",
       "<g id=\"edge6\" class=\"edge\">\n",
       "<title>140083699498192-&gt;140083699268672</title>\n",
       "<path fill=\"none\" stroke=\"black\" d=\"M463.23,-249.37C443.32,-239.41 419.65,-227.58 398.78,-217.14\"/>\n",
       "<polygon fill=\"black\" stroke=\"black\" points=\"400.22,-213.95 389.71,-212.61 397.09,-220.21 400.22,-213.95\"/>\n",
       "</g>\n",
       "<!-- 140083645662928 -->\n",
       "<g id=\"node8\" class=\"node\">\n",
       "<title>140083645662928</title>\n",
       "<polygon fill=\"none\" stroke=\"black\" points=\"198,-83.5 198,-129.5 493,-129.5 493,-83.5 198,-83.5\"/>\n",
       "<text text-anchor=\"middle\" x=\"235\" y=\"-102.8\" font-family=\"Times,serif\" font-size=\"14.00\">dense_4</text>\n",
       "<polyline fill=\"none\" stroke=\"black\" points=\"272,-83.5 272,-129.5 \"/>\n",
       "<text text-anchor=\"middle\" x=\"302.5\" y=\"-102.8\" font-family=\"Times,serif\" font-size=\"14.00\">Dense</text>\n",
       "<polyline fill=\"none\" stroke=\"black\" points=\"333,-83.5 333,-129.5 \"/>\n",
       "<text text-anchor=\"middle\" x=\"367\" y=\"-114.3\" font-family=\"Times,serif\" font-size=\"14.00\">input:</text>\n",
       "<polyline fill=\"none\" stroke=\"black\" points=\"333,-106.5 401,-106.5 \"/>\n",
       "<text text-anchor=\"middle\" x=\"367\" y=\"-91.3\" font-family=\"Times,serif\" font-size=\"14.00\">output:</text>\n",
       "<polyline fill=\"none\" stroke=\"black\" points=\"401,-83.5 401,-129.5 \"/>\n",
       "<text text-anchor=\"middle\" x=\"447\" y=\"-114.3\" font-family=\"Times,serif\" font-size=\"14.00\">(None, 32)</text>\n",
       "<polyline fill=\"none\" stroke=\"black\" points=\"401,-106.5 493,-106.5 \"/>\n",
       "<text text-anchor=\"middle\" x=\"447\" y=\"-91.3\" font-family=\"Times,serif\" font-size=\"14.00\">(None, 10)</text>\n",
       "</g>\n",
       "<!-- 140083699268672&#45;&gt;140083645662928 -->\n",
       "<g id=\"edge7\" class=\"edge\">\n",
       "<title>140083699268672-&gt;140083645662928</title>\n",
       "<path fill=\"none\" stroke=\"black\" d=\"M345.5,-166.37C345.5,-158.15 345.5,-148.66 345.5,-139.73\"/>\n",
       "<polygon fill=\"black\" stroke=\"black\" points=\"349,-139.61 345.5,-129.61 342,-139.61 349,-139.61\"/>\n",
       "</g>\n",
       "<!-- 140083645749760 -->\n",
       "<g id=\"node9\" class=\"node\">\n",
       "<title>140083645749760</title>\n",
       "<polygon fill=\"none\" stroke=\"black\" points=\"14.5,-0.5 14.5,-46.5 336.5,-46.5 336.5,-0.5 14.5,-0.5\"/>\n",
       "<text text-anchor=\"middle\" x=\"51\" y=\"-19.8\" font-family=\"Times,serif\" font-size=\"14.00\">output1</text>\n",
       "<polyline fill=\"none\" stroke=\"black\" points=\"87.5,-0.5 87.5,-46.5 \"/>\n",
       "<text text-anchor=\"middle\" x=\"132\" y=\"-19.8\" font-family=\"Times,serif\" font-size=\"14.00\">Activation</text>\n",
       "<polyline fill=\"none\" stroke=\"black\" points=\"176.5,-0.5 176.5,-46.5 \"/>\n",
       "<text text-anchor=\"middle\" x=\"210.5\" y=\"-31.3\" font-family=\"Times,serif\" font-size=\"14.00\">input:</text>\n",
       "<polyline fill=\"none\" stroke=\"black\" points=\"176.5,-23.5 244.5,-23.5 \"/>\n",
       "<text text-anchor=\"middle\" x=\"210.5\" y=\"-8.3\" font-family=\"Times,serif\" font-size=\"14.00\">output:</text>\n",
       "<polyline fill=\"none\" stroke=\"black\" points=\"244.5,-0.5 244.5,-46.5 \"/>\n",
       "<text text-anchor=\"middle\" x=\"290.5\" y=\"-31.3\" font-family=\"Times,serif\" font-size=\"14.00\">(None, 10)</text>\n",
       "<polyline fill=\"none\" stroke=\"black\" points=\"244.5,-23.5 336.5,-23.5 \"/>\n",
       "<text text-anchor=\"middle\" x=\"290.5\" y=\"-8.3\" font-family=\"Times,serif\" font-size=\"14.00\">(None, 10)</text>\n",
       "</g>\n",
       "<!-- 140083645662928&#45;&gt;140083645749760 -->\n",
       "<g id=\"edge8\" class=\"edge\">\n",
       "<title>140083645662928-&gt;140083645749760</title>\n",
       "<path fill=\"none\" stroke=\"black\" d=\"M299.05,-83.37C278.06,-73.37 253.09,-61.47 231.11,-51\"/>\n",
       "<polygon fill=\"black\" stroke=\"black\" points=\"232.43,-47.75 221.9,-46.61 229.42,-54.07 232.43,-47.75\"/>\n",
       "</g>\n",
       "<!-- 140083699267424 -->\n",
       "<g id=\"node10\" class=\"node\">\n",
       "<title>140083699267424</title>\n",
       "<polygon fill=\"none\" stroke=\"black\" points=\"354.5,-0.5 354.5,-46.5 676.5,-46.5 676.5,-0.5 354.5,-0.5\"/>\n",
       "<text text-anchor=\"middle\" x=\"391\" y=\"-19.8\" font-family=\"Times,serif\" font-size=\"14.00\">output2</text>\n",
       "<polyline fill=\"none\" stroke=\"black\" points=\"427.5,-0.5 427.5,-46.5 \"/>\n",
       "<text text-anchor=\"middle\" x=\"472\" y=\"-19.8\" font-family=\"Times,serif\" font-size=\"14.00\">Activation</text>\n",
       "<polyline fill=\"none\" stroke=\"black\" points=\"516.5,-0.5 516.5,-46.5 \"/>\n",
       "<text text-anchor=\"middle\" x=\"550.5\" y=\"-31.3\" font-family=\"Times,serif\" font-size=\"14.00\">input:</text>\n",
       "<polyline fill=\"none\" stroke=\"black\" points=\"516.5,-23.5 584.5,-23.5 \"/>\n",
       "<text text-anchor=\"middle\" x=\"550.5\" y=\"-8.3\" font-family=\"Times,serif\" font-size=\"14.00\">output:</text>\n",
       "<polyline fill=\"none\" stroke=\"black\" points=\"584.5,-0.5 584.5,-46.5 \"/>\n",
       "<text text-anchor=\"middle\" x=\"630.5\" y=\"-31.3\" font-family=\"Times,serif\" font-size=\"14.00\">(None, 10)</text>\n",
       "<polyline fill=\"none\" stroke=\"black\" points=\"584.5,-23.5 676.5,-23.5 \"/>\n",
       "<text text-anchor=\"middle\" x=\"630.5\" y=\"-8.3\" font-family=\"Times,serif\" font-size=\"14.00\">(None, 10)</text>\n",
       "</g>\n",
       "<!-- 140083645662928&#45;&gt;140083699267424 -->\n",
       "<g id=\"edge9\" class=\"edge\">\n",
       "<title>140083645662928-&gt;140083699267424</title>\n",
       "<path fill=\"none\" stroke=\"black\" d=\"M391.95,-83.37C412.94,-73.37 437.91,-61.47 459.89,-51\"/>\n",
       "<polygon fill=\"black\" stroke=\"black\" points=\"461.58,-54.07 469.1,-46.61 458.57,-47.75 461.58,-54.07\"/>\n",
       "</g>\n",
       "</g>\n",
       "</svg>"
      ],
      "text/plain": [
       "<IPython.core.display.SVG object>"
      ]
     },
     "execution_count": 9,
     "metadata": {},
     "output_type": "execute_result"
    }
   ],
   "source": [
    "SVG(model_to_dot(model, show_shapes=True, dpi=100).create(prog='dot', format='svg'))"
   ]
  },
  {
   "cell_type": "markdown",
   "metadata": {},
   "source": [
    "And now we can train this model. Note the difference in the fit for `x` and `validation_data`. I now need to input a list of numpy arrays so that I can match them to each of the inputs and outputs I made in my original model.\n",
    "\n",
    "Also since I have two outputs I give a loss for each. In this case I picked `categorical_crossentropy` for the softmax output and `mse` for the squared output.\n",
    "\n",
    "Interestingly our our metrics are applied ot all the outputs regardless of how many metrics we use or how many outputs there were"
   ]
  },
  {
   "cell_type": "code",
   "execution_count": 10,
   "metadata": {},
   "outputs": [
    {
     "name": "stdout",
     "output_type": "stream",
     "text": [
      "Epoch 1/5\n",
      "1875/1875 [==============================] - 6s 3ms/step - loss: 2.2087 - output1_loss: 0.9178 - output2_loss: 0.7462 - output1_acc: 0.9057 - output2_acc: 0.8033 - val_loss: 1.9231 - val_output1_loss: 0.7751 - val_output2_loss: 0.7459 - val_output1_acc: 0.9483 - val_output2_acc: 0.8802\n",
      "Epoch 2/5\n",
      "1875/1875 [==============================] - 5s 3ms/step - loss: 1.8810 - output1_loss: 0.7402 - output2_loss: 0.8014 - output1_acc: 0.9538 - output2_acc: 0.8922 - val_loss: 1.8227 - val_output1_loss: 0.7082 - val_output2_loss: 0.8125 - val_output1_acc: 0.9593 - val_output2_acc: 0.9114\n",
      "Epoch 3/5\n",
      "1875/1875 [==============================] - 5s 3ms/step - loss: 1.8107 - output1_loss: 0.7041 - output2_loss: 0.8050 - output1_acc: 0.9593 - output2_acc: 0.9094 - val_loss: 1.8078 - val_output1_loss: 0.6961 - val_output2_loss: 0.8313 - val_output1_acc: 0.9574 - val_output2_acc: 0.9077\n",
      "Epoch 4/5\n",
      "1875/1875 [==============================] - 5s 3ms/step - loss: 1.7760 - output1_loss: 0.6866 - output2_loss: 0.8057 - output1_acc: 0.9617 - output2_acc: 0.9167 - val_loss: 1.7657 - val_output1_loss: 0.6767 - val_output2_loss: 0.8244 - val_output1_acc: 0.9624 - val_output2_acc: 0.9184\n",
      "Epoch 5/5\n",
      "1875/1875 [==============================] - 5s 3ms/step - loss: 1.7556 - output1_loss: 0.6760 - output2_loss: 0.8071 - output1_acc: 0.9635 - output2_acc: 0.9227 - val_loss: 1.7516 - val_output1_loss: 0.6685 - val_output2_loss: 0.8291 - val_output1_acc: 0.9629 - val_output2_acc: 0.9228\n"
     ]
    },
    {
     "data": {
      "text/plain": [
       "<keras.callbacks.History at 0x7f67c3ee6640>"
      ]
     },
     "execution_count": 10,
     "metadata": {},
     "output_type": "execute_result"
    }
   ],
   "source": [
    "model.compile(loss=['categorical_crossentropy', 'mse'],  \n",
    "              loss_weights = [2.0, 0.5],\n",
    "              metrics=['acc'], \n",
    "              optimizer='rmsprop')\n",
    "\n",
    "model.fit(x=[train_images1, train_images2], \n",
    "          y=[train_labels, train_labels],\n",
    "          epochs=5, \n",
    "          validation_data=([test_images1, test_images2], [test_labels, test_labels])\n",
    ")"
   ]
  },
  {
   "cell_type": "markdown",
   "metadata": {},
   "source": [
    "See how we now get a loss value for each output loss and an accuracy. The losses correspond to the loss functions we picked but the metrics were applied to all the outputs. Also notice that we have two validation outputs for loss and metrics as well.\n",
    "\n",
    "## Dict Syntax\n",
    "There is also a dictionary syntax where you can name all the tensors. This may make it easier later to remember which tensor is which but it can also take more lines.\n",
    "\n",
    "**WARNING**\n",
    "I needed to name each of the tensors when I made them using the `name` argument for the layer when I created the input tensors and the output tensors. This then matched the key in the dictionaries. This was not what I expected and was counterintuitive so remember to do this if you make your input/output with dicts.\n"
   ]
  },
  {
   "cell_type": "code",
   "execution_count": 11,
   "metadata": {
    "scrolled": true
   },
   "outputs": [
    {
     "name": "stdout",
     "output_type": "stream",
     "text": [
      "Model: \"model_1\"\n",
      "__________________________________________________________________________________________________\n",
      " Layer (type)                   Output Shape         Param #     Connected to                     \n",
      "==================================================================================================\n",
      " input1 (InputLayer)            [(None, 392)]        0           []                               \n",
      "                                                                                                  \n",
      " input2 (InputLayer)            [(None, 392)]        0           []                               \n",
      "                                                                                                  \n",
      " dense (Dense)                  (None, 32)           12576       ['input1[0][0]']                 \n",
      "                                                                                                  \n",
      " dense_2 (Dense)                (None, 32)           12576       ['input2[0][0]']                 \n",
      "                                                                                                  \n",
      " dense_1 (Dense)                (None, 32)           1056        ['dense[0][0]']                  \n",
      "                                                                                                  \n",
      " dense_3 (Dense)                (None, 32)           1056        ['dense_2[0][0]']                \n",
      "                                                                                                  \n",
      " add (Add)                      (None, 32)           0           ['dense_1[0][0]',                \n",
      "                                                                  'dense_3[0][0]']                \n",
      "                                                                                                  \n",
      " dense_4 (Dense)                (None, 10)           330         ['add[0][0]']                    \n",
      "                                                                                                  \n",
      " output1 (Activation)           (None, 10)           0           ['dense_4[0][0]']                \n",
      "                                                                                                  \n",
      " output2 (Activation)           (None, 10)           0           ['dense_4[0][0]']                \n",
      "                                                                                                  \n",
      "==================================================================================================\n",
      "Total params: 27,594\n",
      "Trainable params: 27,594\n",
      "Non-trainable params: 0\n",
      "__________________________________________________________________________________________________\n"
     ]
    }
   ],
   "source": [
    "input_dict = {\n",
    "    'input1': input_tensor1,\n",
    "    'input2': input_tensor2\n",
    "}\n",
    "output_dict = {\n",
    "    'output1': output_tensor,\n",
    "    'output2': output_tensor_squared\n",
    "}\n",
    "model_dict = Model(input_dict, output_dict)\n",
    "model_dict.summary()"
   ]
  },
  {
   "cell_type": "markdown",
   "metadata": {},
   "source": [
    "Once again a picture is worth a thousand words."
   ]
  },
  {
   "cell_type": "code",
   "execution_count": 12,
   "metadata": {
    "scrolled": true
   },
   "outputs": [
    {
     "data": {
      "image/svg+xml": [
       "<svg xmlns=\"http://www.w3.org/2000/svg\" xmlns:xlink=\"http://www.w3.org/1999/xlink\" width=\"972pt\" height=\"653pt\" viewBox=\"0.00 0.00 700.00 470.00\">\n",
       "<g id=\"graph0\" class=\"graph\" transform=\"scale(0.72 0.72) rotate(0) translate(4 466)\">\n",
       "<title>G</title>\n",
       "<polygon fill=\"white\" stroke=\"transparent\" points=\"-4,4 -4,-466 696,-466 696,4 -4,4\"/>\n",
       "<!-- 140085935059824 -->\n",
       "<g id=\"node1\" class=\"node\">\n",
       "<title>140085935059824</title>\n",
       "<polygon fill=\"none\" stroke=\"black\" points=\"0,-415.5 0,-461.5 337,-461.5 337,-415.5 0,-415.5\"/>\n",
       "<text text-anchor=\"middle\" x=\"31.5\" y=\"-434.8\" font-family=\"Times,serif\" font-size=\"14.00\">input1</text>\n",
       "<polyline fill=\"none\" stroke=\"black\" points=\"63,-415.5 63,-461.5 \"/>\n",
       "<text text-anchor=\"middle\" x=\"110.5\" y=\"-434.8\" font-family=\"Times,serif\" font-size=\"14.00\">InputLayer</text>\n",
       "<polyline fill=\"none\" stroke=\"black\" points=\"158,-415.5 158,-461.5 \"/>\n",
       "<text text-anchor=\"middle\" x=\"192\" y=\"-446.3\" font-family=\"Times,serif\" font-size=\"14.00\">input:</text>\n",
       "<polyline fill=\"none\" stroke=\"black\" points=\"158,-438.5 226,-438.5 \"/>\n",
       "<text text-anchor=\"middle\" x=\"192\" y=\"-423.3\" font-family=\"Times,serif\" font-size=\"14.00\">output:</text>\n",
       "<polyline fill=\"none\" stroke=\"black\" points=\"226,-415.5 226,-461.5 \"/>\n",
       "<text text-anchor=\"middle\" x=\"281.5\" y=\"-446.3\" font-family=\"Times,serif\" font-size=\"14.00\">[(None, 392)]</text>\n",
       "<polyline fill=\"none\" stroke=\"black\" points=\"226,-438.5 337,-438.5 \"/>\n",
       "<text text-anchor=\"middle\" x=\"281.5\" y=\"-423.3\" font-family=\"Times,serif\" font-size=\"14.00\">[(None, 392)]</text>\n",
       "</g>\n",
       "<!-- 140083699496944 -->\n",
       "<g id=\"node3\" class=\"node\">\n",
       "<title>140083699496944</title>\n",
       "<polygon fill=\"none\" stroke=\"black\" points=\"44,-332.5 44,-378.5 333,-378.5 333,-332.5 44,-332.5\"/>\n",
       "<text text-anchor=\"middle\" x=\"73.5\" y=\"-351.8\" font-family=\"Times,serif\" font-size=\"14.00\">dense</text>\n",
       "<polyline fill=\"none\" stroke=\"black\" points=\"103,-332.5 103,-378.5 \"/>\n",
       "<text text-anchor=\"middle\" x=\"133.5\" y=\"-351.8\" font-family=\"Times,serif\" font-size=\"14.00\">Dense</text>\n",
       "<polyline fill=\"none\" stroke=\"black\" points=\"164,-332.5 164,-378.5 \"/>\n",
       "<text text-anchor=\"middle\" x=\"198\" y=\"-363.3\" font-family=\"Times,serif\" font-size=\"14.00\">input:</text>\n",
       "<polyline fill=\"none\" stroke=\"black\" points=\"164,-355.5 232,-355.5 \"/>\n",
       "<text text-anchor=\"middle\" x=\"198\" y=\"-340.3\" font-family=\"Times,serif\" font-size=\"14.00\">output:</text>\n",
       "<polyline fill=\"none\" stroke=\"black\" points=\"232,-332.5 232,-378.5 \"/>\n",
       "<text text-anchor=\"middle\" x=\"282.5\" y=\"-363.3\" font-family=\"Times,serif\" font-size=\"14.00\">(None, 392)</text>\n",
       "<polyline fill=\"none\" stroke=\"black\" points=\"232,-355.5 333,-355.5 \"/>\n",
       "<text text-anchor=\"middle\" x=\"282.5\" y=\"-340.3\" font-family=\"Times,serif\" font-size=\"14.00\">(None, 32)</text>\n",
       "</g>\n",
       "<!-- 140085935059824&#45;&gt;140083699496944 -->\n",
       "<g id=\"edge1\" class=\"edge\">\n",
       "<title>140085935059824-&gt;140083699496944</title>\n",
       "<path fill=\"none\" stroke=\"black\" d=\"M173.97,-415.37C176.02,-407.06 178.39,-397.45 180.62,-388.43\"/>\n",
       "<polygon fill=\"black\" stroke=\"black\" points=\"184.04,-389.15 183.04,-378.61 177.25,-387.48 184.04,-389.15\"/>\n",
       "</g>\n",
       "<!-- 140083658781888 -->\n",
       "<g id=\"node2\" class=\"node\">\n",
       "<title>140083658781888</title>\n",
       "<polygon fill=\"none\" stroke=\"black\" points=\"355,-415.5 355,-461.5 692,-461.5 692,-415.5 355,-415.5\"/>\n",
       "<text text-anchor=\"middle\" x=\"386.5\" y=\"-434.8\" font-family=\"Times,serif\" font-size=\"14.00\">input2</text>\n",
       "<polyline fill=\"none\" stroke=\"black\" points=\"418,-415.5 418,-461.5 \"/>\n",
       "<text text-anchor=\"middle\" x=\"465.5\" y=\"-434.8\" font-family=\"Times,serif\" font-size=\"14.00\">InputLayer</text>\n",
       "<polyline fill=\"none\" stroke=\"black\" points=\"513,-415.5 513,-461.5 \"/>\n",
       "<text text-anchor=\"middle\" x=\"547\" y=\"-446.3\" font-family=\"Times,serif\" font-size=\"14.00\">input:</text>\n",
       "<polyline fill=\"none\" stroke=\"black\" points=\"513,-438.5 581,-438.5 \"/>\n",
       "<text text-anchor=\"middle\" x=\"547\" y=\"-423.3\" font-family=\"Times,serif\" font-size=\"14.00\">output:</text>\n",
       "<polyline fill=\"none\" stroke=\"black\" points=\"581,-415.5 581,-461.5 \"/>\n",
       "<text text-anchor=\"middle\" x=\"636.5\" y=\"-446.3\" font-family=\"Times,serif\" font-size=\"14.00\">[(None, 392)]</text>\n",
       "<polyline fill=\"none\" stroke=\"black\" points=\"581,-438.5 692,-438.5 \"/>\n",
       "<text text-anchor=\"middle\" x=\"636.5\" y=\"-423.3\" font-family=\"Times,serif\" font-size=\"14.00\">[(None, 392)]</text>\n",
       "</g>\n",
       "<!-- 140083645661632 -->\n",
       "<g id=\"node4\" class=\"node\">\n",
       "<title>140083645661632</title>\n",
       "<polygon fill=\"none\" stroke=\"black\" points=\"361.5,-332.5 361.5,-378.5 665.5,-378.5 665.5,-332.5 361.5,-332.5\"/>\n",
       "<text text-anchor=\"middle\" x=\"398.5\" y=\"-351.8\" font-family=\"Times,serif\" font-size=\"14.00\">dense_2</text>\n",
       "<polyline fill=\"none\" stroke=\"black\" points=\"435.5,-332.5 435.5,-378.5 \"/>\n",
       "<text text-anchor=\"middle\" x=\"466\" y=\"-351.8\" font-family=\"Times,serif\" font-size=\"14.00\">Dense</text>\n",
       "<polyline fill=\"none\" stroke=\"black\" points=\"496.5,-332.5 496.5,-378.5 \"/>\n",
       "<text text-anchor=\"middle\" x=\"530.5\" y=\"-363.3\" font-family=\"Times,serif\" font-size=\"14.00\">input:</text>\n",
       "<polyline fill=\"none\" stroke=\"black\" points=\"496.5,-355.5 564.5,-355.5 \"/>\n",
       "<text text-anchor=\"middle\" x=\"530.5\" y=\"-340.3\" font-family=\"Times,serif\" font-size=\"14.00\">output:</text>\n",
       "<polyline fill=\"none\" stroke=\"black\" points=\"564.5,-332.5 564.5,-378.5 \"/>\n",
       "<text text-anchor=\"middle\" x=\"615\" y=\"-363.3\" font-family=\"Times,serif\" font-size=\"14.00\">(None, 392)</text>\n",
       "<polyline fill=\"none\" stroke=\"black\" points=\"564.5,-355.5 665.5,-355.5 \"/>\n",
       "<text text-anchor=\"middle\" x=\"615\" y=\"-340.3\" font-family=\"Times,serif\" font-size=\"14.00\">(None, 32)</text>\n",
       "</g>\n",
       "<!-- 140083658781888&#45;&gt;140083645661632 -->\n",
       "<g id=\"edge2\" class=\"edge\">\n",
       "<title>140083658781888-&gt;140083645661632</title>\n",
       "<path fill=\"none\" stroke=\"black\" d=\"M520.77,-415.37C519.75,-407.15 518.58,-397.66 517.48,-388.73\"/>\n",
       "<polygon fill=\"black\" stroke=\"black\" points=\"520.93,-388.1 516.23,-378.61 513.98,-388.96 520.93,-388.1\"/>\n",
       "</g>\n",
       "<!-- 140085935059248 -->\n",
       "<g id=\"node5\" class=\"node\">\n",
       "<title>140085935059248</title>\n",
       "<polygon fill=\"none\" stroke=\"black\" points=\"42,-249.5 42,-295.5 337,-295.5 337,-249.5 42,-249.5\"/>\n",
       "<text text-anchor=\"middle\" x=\"79\" y=\"-268.8\" font-family=\"Times,serif\" font-size=\"14.00\">dense_1</text>\n",
       "<polyline fill=\"none\" stroke=\"black\" points=\"116,-249.5 116,-295.5 \"/>\n",
       "<text text-anchor=\"middle\" x=\"146.5\" y=\"-268.8\" font-family=\"Times,serif\" font-size=\"14.00\">Dense</text>\n",
       "<polyline fill=\"none\" stroke=\"black\" points=\"177,-249.5 177,-295.5 \"/>\n",
       "<text text-anchor=\"middle\" x=\"211\" y=\"-280.3\" font-family=\"Times,serif\" font-size=\"14.00\">input:</text>\n",
       "<polyline fill=\"none\" stroke=\"black\" points=\"177,-272.5 245,-272.5 \"/>\n",
       "<text text-anchor=\"middle\" x=\"211\" y=\"-257.3\" font-family=\"Times,serif\" font-size=\"14.00\">output:</text>\n",
       "<polyline fill=\"none\" stroke=\"black\" points=\"245,-249.5 245,-295.5 \"/>\n",
       "<text text-anchor=\"middle\" x=\"291\" y=\"-280.3\" font-family=\"Times,serif\" font-size=\"14.00\">(None, 32)</text>\n",
       "<polyline fill=\"none\" stroke=\"black\" points=\"245,-272.5 337,-272.5 \"/>\n",
       "<text text-anchor=\"middle\" x=\"291\" y=\"-257.3\" font-family=\"Times,serif\" font-size=\"14.00\">(None, 32)</text>\n",
       "</g>\n",
       "<!-- 140083699496944&#45;&gt;140085935059248 -->\n",
       "<g id=\"edge3\" class=\"edge\">\n",
       "<title>140083699496944-&gt;140085935059248</title>\n",
       "<path fill=\"none\" stroke=\"black\" d=\"M188.77,-332.37C188.87,-324.15 188.99,-314.66 189.1,-305.73\"/>\n",
       "<polygon fill=\"black\" stroke=\"black\" points=\"192.6,-305.65 189.23,-295.61 185.6,-305.56 192.6,-305.65\"/>\n",
       "</g>\n",
       "<!-- 140083699498192 -->\n",
       "<g id=\"node6\" class=\"node\">\n",
       "<title>140083699498192</title>\n",
       "<polygon fill=\"none\" stroke=\"black\" points=\"360,-249.5 360,-295.5 655,-295.5 655,-249.5 360,-249.5\"/>\n",
       "<text text-anchor=\"middle\" x=\"397\" y=\"-268.8\" font-family=\"Times,serif\" font-size=\"14.00\">dense_3</text>\n",
       "<polyline fill=\"none\" stroke=\"black\" points=\"434,-249.5 434,-295.5 \"/>\n",
       "<text text-anchor=\"middle\" x=\"464.5\" y=\"-268.8\" font-family=\"Times,serif\" font-size=\"14.00\">Dense</text>\n",
       "<polyline fill=\"none\" stroke=\"black\" points=\"495,-249.5 495,-295.5 \"/>\n",
       "<text text-anchor=\"middle\" x=\"529\" y=\"-280.3\" font-family=\"Times,serif\" font-size=\"14.00\">input:</text>\n",
       "<polyline fill=\"none\" stroke=\"black\" points=\"495,-272.5 563,-272.5 \"/>\n",
       "<text text-anchor=\"middle\" x=\"529\" y=\"-257.3\" font-family=\"Times,serif\" font-size=\"14.00\">output:</text>\n",
       "<polyline fill=\"none\" stroke=\"black\" points=\"563,-249.5 563,-295.5 \"/>\n",
       "<text text-anchor=\"middle\" x=\"609\" y=\"-280.3\" font-family=\"Times,serif\" font-size=\"14.00\">(None, 32)</text>\n",
       "<polyline fill=\"none\" stroke=\"black\" points=\"563,-272.5 655,-272.5 \"/>\n",
       "<text text-anchor=\"middle\" x=\"609\" y=\"-257.3\" font-family=\"Times,serif\" font-size=\"14.00\">(None, 32)</text>\n",
       "</g>\n",
       "<!-- 140083645661632&#45;&gt;140083699498192 -->\n",
       "<g id=\"edge4\" class=\"edge\">\n",
       "<title>140083645661632-&gt;140083699498192</title>\n",
       "<path fill=\"none\" stroke=\"black\" d=\"M511.86,-332.37C511.25,-324.15 510.55,-314.66 509.89,-305.73\"/>\n",
       "<polygon fill=\"black\" stroke=\"black\" points=\"513.37,-305.32 509.14,-295.61 506.39,-305.84 513.37,-305.32\"/>\n",
       "</g>\n",
       "<!-- 140083699268672 -->\n",
       "<g id=\"node7\" class=\"node\">\n",
       "<title>140083699268672</title>\n",
       "<polygon fill=\"none\" stroke=\"black\" points=\"175,-166.5 175,-212.5 516,-212.5 516,-166.5 175,-166.5\"/>\n",
       "<text text-anchor=\"middle\" x=\"196.5\" y=\"-185.8\" font-family=\"Times,serif\" font-size=\"14.00\">add</text>\n",
       "<polyline fill=\"none\" stroke=\"black\" points=\"218,-166.5 218,-212.5 \"/>\n",
       "<text text-anchor=\"middle\" x=\"240\" y=\"-185.8\" font-family=\"Times,serif\" font-size=\"14.00\">Add</text>\n",
       "<polyline fill=\"none\" stroke=\"black\" points=\"262,-166.5 262,-212.5 \"/>\n",
       "<text text-anchor=\"middle\" x=\"296\" y=\"-197.3\" font-family=\"Times,serif\" font-size=\"14.00\">input:</text>\n",
       "<polyline fill=\"none\" stroke=\"black\" points=\"262,-189.5 330,-189.5 \"/>\n",
       "<text text-anchor=\"middle\" x=\"296\" y=\"-174.3\" font-family=\"Times,serif\" font-size=\"14.00\">output:</text>\n",
       "<polyline fill=\"none\" stroke=\"black\" points=\"330,-166.5 330,-212.5 \"/>\n",
       "<text text-anchor=\"middle\" x=\"423\" y=\"-197.3\" font-family=\"Times,serif\" font-size=\"14.00\">[(None, 32), (None, 32)]</text>\n",
       "<polyline fill=\"none\" stroke=\"black\" points=\"330,-189.5 516,-189.5 \"/>\n",
       "<text text-anchor=\"middle\" x=\"423\" y=\"-174.3\" font-family=\"Times,serif\" font-size=\"14.00\">(None, 32)</text>\n",
       "</g>\n",
       "<!-- 140085935059248&#45;&gt;140083699268672 -->\n",
       "<g id=\"edge5\" class=\"edge\">\n",
       "<title>140085935059248-&gt;140083699268672</title>\n",
       "<path fill=\"none\" stroke=\"black\" d=\"M232.13,-249.37C251.22,-239.46 273.89,-227.68 293.93,-217.28\"/>\n",
       "<polygon fill=\"black\" stroke=\"black\" points=\"295.66,-220.32 302.92,-212.61 292.44,-214.11 295.66,-220.32\"/>\n",
       "</g>\n",
       "<!-- 140083699498192&#45;&gt;140083699268672 -->\n",
       "<g id=\"edge6\" class=\"edge\">\n",
       "<title>140083699498192-&gt;140083699268672</title>\n",
       "<path fill=\"none\" stroke=\"black\" d=\"M463.23,-249.37C443.32,-239.41 419.65,-227.58 398.78,-217.14\"/>\n",
       "<polygon fill=\"black\" stroke=\"black\" points=\"400.22,-213.95 389.71,-212.61 397.09,-220.21 400.22,-213.95\"/>\n",
       "</g>\n",
       "<!-- 140083645662928 -->\n",
       "<g id=\"node8\" class=\"node\">\n",
       "<title>140083645662928</title>\n",
       "<polygon fill=\"none\" stroke=\"black\" points=\"198,-83.5 198,-129.5 493,-129.5 493,-83.5 198,-83.5\"/>\n",
       "<text text-anchor=\"middle\" x=\"235\" y=\"-102.8\" font-family=\"Times,serif\" font-size=\"14.00\">dense_4</text>\n",
       "<polyline fill=\"none\" stroke=\"black\" points=\"272,-83.5 272,-129.5 \"/>\n",
       "<text text-anchor=\"middle\" x=\"302.5\" y=\"-102.8\" font-family=\"Times,serif\" font-size=\"14.00\">Dense</text>\n",
       "<polyline fill=\"none\" stroke=\"black\" points=\"333,-83.5 333,-129.5 \"/>\n",
       "<text text-anchor=\"middle\" x=\"367\" y=\"-114.3\" font-family=\"Times,serif\" font-size=\"14.00\">input:</text>\n",
       "<polyline fill=\"none\" stroke=\"black\" points=\"333,-106.5 401,-106.5 \"/>\n",
       "<text text-anchor=\"middle\" x=\"367\" y=\"-91.3\" font-family=\"Times,serif\" font-size=\"14.00\">output:</text>\n",
       "<polyline fill=\"none\" stroke=\"black\" points=\"401,-83.5 401,-129.5 \"/>\n",
       "<text text-anchor=\"middle\" x=\"447\" y=\"-114.3\" font-family=\"Times,serif\" font-size=\"14.00\">(None, 32)</text>\n",
       "<polyline fill=\"none\" stroke=\"black\" points=\"401,-106.5 493,-106.5 \"/>\n",
       "<text text-anchor=\"middle\" x=\"447\" y=\"-91.3\" font-family=\"Times,serif\" font-size=\"14.00\">(None, 10)</text>\n",
       "</g>\n",
       "<!-- 140083699268672&#45;&gt;140083645662928 -->\n",
       "<g id=\"edge7\" class=\"edge\">\n",
       "<title>140083699268672-&gt;140083645662928</title>\n",
       "<path fill=\"none\" stroke=\"black\" d=\"M345.5,-166.37C345.5,-158.15 345.5,-148.66 345.5,-139.73\"/>\n",
       "<polygon fill=\"black\" stroke=\"black\" points=\"349,-139.61 345.5,-129.61 342,-139.61 349,-139.61\"/>\n",
       "</g>\n",
       "<!-- 140083645749760 -->\n",
       "<g id=\"node9\" class=\"node\">\n",
       "<title>140083645749760</title>\n",
       "<polygon fill=\"none\" stroke=\"black\" points=\"14.5,-0.5 14.5,-46.5 336.5,-46.5 336.5,-0.5 14.5,-0.5\"/>\n",
       "<text text-anchor=\"middle\" x=\"51\" y=\"-19.8\" font-family=\"Times,serif\" font-size=\"14.00\">output1</text>\n",
       "<polyline fill=\"none\" stroke=\"black\" points=\"87.5,-0.5 87.5,-46.5 \"/>\n",
       "<text text-anchor=\"middle\" x=\"132\" y=\"-19.8\" font-family=\"Times,serif\" font-size=\"14.00\">Activation</text>\n",
       "<polyline fill=\"none\" stroke=\"black\" points=\"176.5,-0.5 176.5,-46.5 \"/>\n",
       "<text text-anchor=\"middle\" x=\"210.5\" y=\"-31.3\" font-family=\"Times,serif\" font-size=\"14.00\">input:</text>\n",
       "<polyline fill=\"none\" stroke=\"black\" points=\"176.5,-23.5 244.5,-23.5 \"/>\n",
       "<text text-anchor=\"middle\" x=\"210.5\" y=\"-8.3\" font-family=\"Times,serif\" font-size=\"14.00\">output:</text>\n",
       "<polyline fill=\"none\" stroke=\"black\" points=\"244.5,-0.5 244.5,-46.5 \"/>\n",
       "<text text-anchor=\"middle\" x=\"290.5\" y=\"-31.3\" font-family=\"Times,serif\" font-size=\"14.00\">(None, 10)</text>\n",
       "<polyline fill=\"none\" stroke=\"black\" points=\"244.5,-23.5 336.5,-23.5 \"/>\n",
       "<text text-anchor=\"middle\" x=\"290.5\" y=\"-8.3\" font-family=\"Times,serif\" font-size=\"14.00\">(None, 10)</text>\n",
       "</g>\n",
       "<!-- 140083645662928&#45;&gt;140083645749760 -->\n",
       "<g id=\"edge8\" class=\"edge\">\n",
       "<title>140083645662928-&gt;140083645749760</title>\n",
       "<path fill=\"none\" stroke=\"black\" d=\"M299.05,-83.37C278.06,-73.37 253.09,-61.47 231.11,-51\"/>\n",
       "<polygon fill=\"black\" stroke=\"black\" points=\"232.43,-47.75 221.9,-46.61 229.42,-54.07 232.43,-47.75\"/>\n",
       "</g>\n",
       "<!-- 140083699267424 -->\n",
       "<g id=\"node10\" class=\"node\">\n",
       "<title>140083699267424</title>\n",
       "<polygon fill=\"none\" stroke=\"black\" points=\"354.5,-0.5 354.5,-46.5 676.5,-46.5 676.5,-0.5 354.5,-0.5\"/>\n",
       "<text text-anchor=\"middle\" x=\"391\" y=\"-19.8\" font-family=\"Times,serif\" font-size=\"14.00\">output2</text>\n",
       "<polyline fill=\"none\" stroke=\"black\" points=\"427.5,-0.5 427.5,-46.5 \"/>\n",
       "<text text-anchor=\"middle\" x=\"472\" y=\"-19.8\" font-family=\"Times,serif\" font-size=\"14.00\">Activation</text>\n",
       "<polyline fill=\"none\" stroke=\"black\" points=\"516.5,-0.5 516.5,-46.5 \"/>\n",
       "<text text-anchor=\"middle\" x=\"550.5\" y=\"-31.3\" font-family=\"Times,serif\" font-size=\"14.00\">input:</text>\n",
       "<polyline fill=\"none\" stroke=\"black\" points=\"516.5,-23.5 584.5,-23.5 \"/>\n",
       "<text text-anchor=\"middle\" x=\"550.5\" y=\"-8.3\" font-family=\"Times,serif\" font-size=\"14.00\">output:</text>\n",
       "<polyline fill=\"none\" stroke=\"black\" points=\"584.5,-0.5 584.5,-46.5 \"/>\n",
       "<text text-anchor=\"middle\" x=\"630.5\" y=\"-31.3\" font-family=\"Times,serif\" font-size=\"14.00\">(None, 10)</text>\n",
       "<polyline fill=\"none\" stroke=\"black\" points=\"584.5,-23.5 676.5,-23.5 \"/>\n",
       "<text text-anchor=\"middle\" x=\"630.5\" y=\"-8.3\" font-family=\"Times,serif\" font-size=\"14.00\">(None, 10)</text>\n",
       "</g>\n",
       "<!-- 140083645662928&#45;&gt;140083699267424 -->\n",
       "<g id=\"edge9\" class=\"edge\">\n",
       "<title>140083645662928-&gt;140083699267424</title>\n",
       "<path fill=\"none\" stroke=\"black\" d=\"M391.95,-83.37C412.94,-73.37 437.91,-61.47 459.89,-51\"/>\n",
       "<polygon fill=\"black\" stroke=\"black\" points=\"461.58,-54.07 469.1,-46.61 458.57,-47.75 461.58,-54.07\"/>\n",
       "</g>\n",
       "</g>\n",
       "</svg>"
      ],
      "text/plain": [
       "<IPython.core.display.SVG object>"
      ]
     },
     "execution_count": 12,
     "metadata": {},
     "output_type": "execute_result"
    }
   ],
   "source": [
    "SVG(model_to_dot(model_dict, show_shapes=True, dpi=100).create(prog='dot', format='svg'))"
   ]
  },
  {
   "cell_type": "markdown",
   "metadata": {},
   "source": [
    "Compiling with the dict model has a slightly different syntax. Note that this is getting longer compared to before but we can do things we could not do before. For example we can decide explicitly which output the loss functions and metrics apply to. Note that I only use accuracy on the softmax output because that is the one that actually makes sense for accuracy."
   ]
  },
  {
   "cell_type": "code",
   "execution_count": 13,
   "metadata": {},
   "outputs": [],
   "source": [
    "# Dict for the compile\n",
    "loss_dict = {\n",
    "    'output1': 'categorical_crossentropy',\n",
    "    'output2': 'mse'\n",
    "}\n",
    "loss_weights_dict = {\n",
    "    'output1': 2.0,\n",
    "    'output2': 0.5\n",
    "}\n",
    "metrics_dict = {\n",
    "     'output1': 'acc'\n",
    "}\n",
    "model_dict.compile(loss=loss_dict,  \n",
    "              loss_weights = loss_weights_dict,\n",
    "              metrics=metrics_dict, \n",
    "              optimizer='rmsprop')"
   ]
  },
  {
   "cell_type": "markdown",
   "metadata": {},
   "source": [
    "After compiling I can also use the dict syntax to call out which numpy arrays correspond to which tensors when fitting."
   ]
  },
  {
   "cell_type": "code",
   "execution_count": 14,
   "metadata": {},
   "outputs": [
    {
     "name": "stdout",
     "output_type": "stream",
     "text": [
      "Epoch 1/5\n",
      "1875/1875 [==============================] - 6s 3ms/step - loss: 1.7418 - output1_loss: 0.6690 - output2_loss: 0.8075 - output1_acc: 0.9648 - val_loss: 1.7450 - val_output1_loss: 0.6739 - val_output2_loss: 0.7945 - val_output1_acc: 0.9628\n",
      "Epoch 2/5\n",
      "1875/1875 [==============================] - 5s 3ms/step - loss: 1.7306 - output1_loss: 0.6635 - output2_loss: 0.8072 - output1_acc: 0.9657 - val_loss: 1.7333 - val_output1_loss: 0.6742 - val_output2_loss: 0.7699 - val_output1_acc: 0.9631\n",
      "Epoch 3/5\n",
      "1875/1875 [==============================] - 5s 3ms/step - loss: 1.7223 - output1_loss: 0.6593 - output2_loss: 0.8073 - output1_acc: 0.9657 - val_loss: 1.7328 - val_output1_loss: 0.6484 - val_output2_loss: 0.8722 - val_output1_acc: 0.9650\n",
      "Epoch 4/5\n",
      "1875/1875 [==============================] - 5s 3ms/step - loss: 1.7152 - output1_loss: 0.6556 - output2_loss: 0.8078 - output1_acc: 0.9665 - val_loss: 1.7226 - val_output1_loss: 0.6734 - val_output2_loss: 0.7516 - val_output1_acc: 0.9641\n",
      "Epoch 5/5\n",
      "1875/1875 [==============================] - 5s 3ms/step - loss: 1.7087 - output1_loss: 0.6525 - output2_loss: 0.8075 - output1_acc: 0.9674 - val_loss: 1.7267 - val_output1_loss: 0.6569 - val_output2_loss: 0.8257 - val_output1_acc: 0.9630\n"
     ]
    },
    {
     "data": {
      "text/plain": [
       "<keras.callbacks.History at 0x7f6844afc8e0>"
      ]
     },
     "execution_count": 14,
     "metadata": {},
     "output_type": "execute_result"
    }
   ],
   "source": [
    "# dicts for fitting\n",
    "x_dict = {\n",
    "    'input1': train_images1,\n",
    "    'input2': train_images2,\n",
    "}\n",
    "y_dict = {\n",
    "    'output1': train_labels,\n",
    "    'output2': train_labels\n",
    "}\n",
    "x_dict_test = {\n",
    "    'input1': test_images1,\n",
    "    'input2': test_images2,\n",
    "}\n",
    "y_dict_test = {\n",
    "    'output1': test_labels,\n",
    "    'output2': test_labels\n",
    "}\n",
    "model_dict.fit(x=x_dict, \n",
    "          y=y_dict,\n",
    "          epochs=5, \n",
    "          validation_data=(x_dict_test, y_dict_test)\n",
    ")"
   ]
  },
  {
   "cell_type": "markdown",
   "metadata": {},
   "source": [
    "Notice now I only get the accuracy of the first output because that is the only output I asked to do the accuracy on. Before I got accuracies on all the outputs becasue Keras did not know how to map the accuracies to the outputs."
   ]
  },
  {
   "cell_type": "markdown",
   "metadata": {},
   "source": [
    "# Custom Functions\n",
    "We can make custom functions for Keras any function we want as long as it has the right arguments and returns the correct variable.\n",
    "\n",
    "**WARNING** you must use either tensorflow or keras operations on the tensors for this to work. **DO NOT** use the numpy function or else it will not work but might actually compile/run and be very confusing.\n",
    "\n",
    "Most functions are the same between Keras and tensorflow but sometimes there are functions one has that the other does not. If the function does the same thing it shouldn't matter which you use because keras is probably calling the tensorflow function directly anyway.\n",
    "\n",
    "### Custom Loss\n",
    "for custom loss we input two `tf.Tensor` objects for the truth (or the labels aka what we pass to `y` in the fit function) and the prediction (the output of our ANN)\n",
    "\n",
    "We must return a `tf.Tensor` object of the same shape besides the last dimension which must now be one. Remember this always operates on a batch. So if our shapes are for `y_true.shape=(32, 10)` and `y_pred.shape=(32, 10)` we should output a tensor `loss.shape=(32,1)`\n",
    "\n",
    "I will now make my own custom loss which just takes an average across the two tensors multiplied together. This is just something I made up so do not look into it too much."
   ]
  },
  {
   "cell_type": "code",
   "execution_count": 15,
   "metadata": {},
   "outputs": [
    {
     "data": {
      "text/plain": [
       "array([ -2.5, -12.5], dtype=float32)"
      ]
     },
     "execution_count": 15,
     "metadata": {},
     "output_type": "execute_result"
    }
   ],
   "source": [
    "def my_custom_loss_fn(y_true, y_pred):\n",
    "    # I will multiply the two functions then sum along the last axis\n",
    "    # Note that I had to use the tensorflow function and could not use the numpy function\n",
    "    loss = -tf.reduce_mean(y_true * y_pred, axis=-1)\n",
    "    return loss\n",
    "\n",
    "# now I can call my new function on some dummy tensors to test\n",
    "y_true_t = tf.constant([[1.0, 2.0], [3.0, 4.0]])\n",
    "y_pred_t = tf.constant([[1.0, 2.0], [3.0, 4.0]])\n",
    "res = my_custom_loss_fn(y_true_t, y_pred_t)\n",
    "res.numpy()"
   ]
  },
  {
   "cell_type": "markdown",
   "metadata": {},
   "source": [
    "Since we have to make our loss function have two input you may be asking \"How would I give my own arguments to the function?\". Well do not worry there is a solution for that with the `functools` package (installed by default with python). We are going to use the partial function to preset arguments so that Keras only sees the two it cares about."
   ]
  },
  {
   "cell_type": "code",
   "execution_count": 16,
   "metadata": {},
   "outputs": [
    {
     "name": "stdout",
     "output_type": "stream",
     "text": [
      "Try the function without the arguments and it will fail\n",
      "my_custom_loss_fn_with_args() missing 2 required positional arguments: 'arg1' and 'arg2'\n",
      "\n",
      "Now with the preset arguments it works as expected\n"
     ]
    },
    {
     "data": {
      "text/plain": [
       "array([ -7.5, -37.5], dtype=float32)"
      ]
     },
     "execution_count": 16,
     "metadata": {},
     "output_type": "execute_result"
    }
   ],
   "source": [
    "from functools import partial\n",
    "\n",
    "def my_custom_loss_fn_with_args(y_true, y_pred, arg1, arg2):\n",
    "    if arg1 > 1:\n",
    "        loss = -tf.reduce_mean(y_true * y_pred, axis=-1)\n",
    "    else:\n",
    "        loss = tf.reduce_mean(y_true + y_pred, axis=-1)\n",
    "    loss *= arg2\n",
    "    return loss\n",
    "\n",
    "# make some input tensors\n",
    "y_true_t = tf.constant([[1.0, 2.0], [3.0, 4.0]])\n",
    "y_pred_t = tf.constant([[1.0, 2.0], [3.0, 4.0]])\n",
    "print('Try the function without the arguments and it will fail')\n",
    "try:\n",
    "    my_custom_loss_fn_with_args(y_true_t, y_pred_t)\n",
    "except Exception as e:\n",
    "    print(e)\n",
    "\n",
    "# preset the arguments with the partial function  \n",
    "my_custom_loss_fn_with_build_in_args = partial(my_custom_loss_fn_with_args,\n",
    "                                              arg1=10,\n",
    "                                              arg2=3)\n",
    "\n",
    "print('\\nNow with the preset arguments it works as expected')\n",
    "# now I can call my new function without arg1 or arg2 set\n",
    "res = my_custom_loss_fn_with_build_in_args(y_true_t, y_pred_t)\n",
    "res.numpy()"
   ]
  },
  {
   "cell_type": "markdown",
   "metadata": {},
   "source": [
    "You can also nest functions to get the same effect. This may be more intuitive compare to the `functools` approach above"
   ]
  },
  {
   "cell_type": "code",
   "execution_count": 17,
   "metadata": {},
   "outputs": [
    {
     "name": "stdout",
     "output_type": "stream",
     "text": [
      "\n",
      "Now with the built in arguments it works as expected\n"
     ]
    },
    {
     "data": {
      "text/plain": [
       "array([ -7.5, -37.5], dtype=float32)"
      ]
     },
     "execution_count": 17,
     "metadata": {},
     "output_type": "execute_result"
    }
   ],
   "source": [
    "def make_my_custom_loss_fn_with_args(arg1, arg2):\n",
    "    def my_custom_loss_fn_with_args(y_true, y_pred):\n",
    "        if arg1 > 1:\n",
    "            loss = -tf.reduce_mean(y_true * y_pred, axis=-1)\n",
    "        else:\n",
    "            loss = tf.reduce_mean(y_true + y_pred, axis=-1)\n",
    "        loss *= arg2\n",
    "        return loss\n",
    "    return my_custom_loss_fn_with_args\n",
    "\n",
    "# make some input tensors\n",
    "y_true_t = tf.constant([[1.0, 2.0], [3.0, 4.0]])\n",
    "y_pred_t = tf.constant([[1.0, 2.0], [3.0, 4.0]])\n",
    "\n",
    "# now build the actual function with our args\n",
    "my_custom_loss_fn_with_build_in_args =  make_my_custom_loss_fn_with_args(arg1=10, arg2=3)\n",
    "\n",
    "\n",
    "print('\\nNow with the built in arguments it works as expected')\n",
    "# now I can call my new function without arg1 or arg2 set\n",
    "res = my_custom_loss_fn_with_build_in_args(y_true_t, y_pred_t)\n",
    "res.numpy()"
   ]
  },
  {
   "cell_type": "markdown",
   "metadata": {},
   "source": [
    "### Custom Activation\n",
    "Custom Activation functions simply take in some tensor `x` and return another tensor of the same shape. For example I will make an activation that squares the tensor"
   ]
  },
  {
   "cell_type": "code",
   "execution_count": 18,
   "metadata": {},
   "outputs": [
    {
     "data": {
      "text/plain": [
       "array([[ 1.,  4.],\n",
       "       [ 9., 16.]], dtype=float32)"
      ]
     },
     "execution_count": 18,
     "metadata": {},
     "output_type": "execute_result"
    }
   ],
   "source": [
    "def my_custom_activation_fn(x):\n",
    "    ## I could return x**2 but I want to emphasize that we can use keras backend functions\n",
    "    return K.square(x)\n",
    "\n",
    "x_t = tf.constant([[1.0, 2.0], [3.0, 4.0]])\n",
    "res = my_custom_activation_fn(x_t)\n",
    "res.numpy()"
   ]
  },
  {
   "cell_type": "markdown",
   "metadata": {},
   "source": [
    "### Custom Metric\n",
    "A custom metric looks just like a custom loss function. I am going to repeat my loss function but use the Keras backend instead of the tensorflow function"
   ]
  },
  {
   "cell_type": "code",
   "execution_count": 19,
   "metadata": {},
   "outputs": [
    {
     "data": {
      "text/plain": [
       "array([ -2.5, -12.5], dtype=float32)"
      ]
     },
     "execution_count": 19,
     "metadata": {},
     "output_type": "execute_result"
    }
   ],
   "source": [
    "def my_custom_metric_fn(y_true, y_pred):\n",
    "    # I will multiply the two functions then sum along the last axis\n",
    "    # Note that I had to use the keras backend function and could not use the numpy function\n",
    "    loss = -K.mean(y_true * y_pred, axis=-1)\n",
    "    return loss\n",
    "\n",
    "y_true_t = tf.constant([[1.0, 2.0], [3.0, 4.0]])\n",
    "y_pred_t = tf.constant([[1.0, 2.0], [3.0, 4.0]])\n",
    "res = my_custom_metric_fn(y_true_t, y_pred_t)\n",
    "res.numpy()"
   ]
  },
  {
   "cell_type": "markdown",
   "metadata": {},
   "source": [
    "Now lets use these in a model. We are going to make a simple network for now"
   ]
  },
  {
   "cell_type": "code",
   "execution_count": 20,
   "metadata": {},
   "outputs": [
    {
     "name": "stdout",
     "output_type": "stream",
     "text": [
      "Epoch 1/5\n",
      "1875/1875 [==============================] - 4s 2ms/step - loss: -0.0665 - my_custom_metric_fn: -0.0665 - val_loss: -0.0711 - val_my_custom_metric_fn: -0.0711\n",
      "Epoch 2/5\n",
      "1875/1875 [==============================] - 3s 2ms/step - loss: -0.0715 - my_custom_metric_fn: -0.0715 - val_loss: -0.0719 - val_my_custom_metric_fn: -0.0719\n",
      "Epoch 3/5\n",
      "1875/1875 [==============================] - 3s 2ms/step - loss: -0.0726 - my_custom_metric_fn: -0.0726 - val_loss: -0.0730 - val_my_custom_metric_fn: -0.0730\n",
      "Epoch 4/5\n",
      "1875/1875 [==============================] - 3s 2ms/step - loss: -0.0732 - my_custom_metric_fn: -0.0732 - val_loss: -0.0736 - val_my_custom_metric_fn: -0.0736\n",
      "Epoch 5/5\n",
      "1875/1875 [==============================] - 3s 2ms/step - loss: -0.0735 - my_custom_metric_fn: -0.0735 - val_loss: -0.0742 - val_my_custom_metric_fn: -0.0742\n"
     ]
    },
    {
     "data": {
      "text/plain": [
       "<keras.callbacks.History at 0x7f6844699be0>"
      ]
     },
     "execution_count": 20,
     "metadata": {},
     "output_type": "execute_result"
    }
   ],
   "source": [
    "input_tensor = Input(shape=(middle,))\n",
    "current_tensor = input_tensor\n",
    "current_tensor = Dense(units=32, activation='relu')(current_tensor)\n",
    "# note here I used a custom activation function\n",
    "current_tensor = Dense(units=32, activation=my_custom_activation_fn)(current_tensor)\n",
    "current_tensor = Dense(units=10, activation='softmax')(current_tensor)\n",
    "output_tensor = current_tensor\n",
    "\n",
    "model = Model(input_tensor, output_tensor)\n",
    "\n",
    "# here I use my custom loss and custom metric\n",
    "model.compile(loss=my_custom_loss_fn,  \n",
    "              metrics=[my_custom_metric_fn], \n",
    "              optimizer='rmsprop')\n",
    "\n",
    "model.fit(x=train_images1, \n",
    "          y=train_labels,\n",
    "          epochs=5, \n",
    "          validation_data=(test_images1, test_labels)\n",
    ")"
   ]
  },
  {
   "cell_type": "markdown",
   "metadata": {},
   "source": [
    "If you were to save this model with `model.save('model.h5')` then using the `load_model` to load becomes more complicated because you have your own functions now. Before Keras knew any function you used because they were built in. However since Keras saves the names of the functions but the definition you need to supply the definition or else Keras will not know what to do.\n",
    "\n",
    "To supply the definition for a function we need to use the `custom_objects` dict argument to the `load_model` function"
   ]
  },
  {
   "cell_type": "code",
   "execution_count": 21,
   "metadata": {},
   "outputs": [
    {
     "name": "stdout",
     "output_type": "stream",
     "text": [
      "Failed to load model without the custom_objects dict\n",
      "\n",
      "Loaded model with custom_objects:\n",
      "Model: \"model_2\"\n",
      "_________________________________________________________________\n",
      " Layer (type)                Output Shape              Param #   \n",
      "=================================================================\n",
      " input_1 (InputLayer)        [(None, 392)]             0         \n",
      "                                                                 \n",
      " dense_5 (Dense)             (None, 32)                12576     \n",
      "                                                                 \n",
      " dense_6 (Dense)             (None, 32)                1056      \n",
      "                                                                 \n",
      " dense_7 (Dense)             (None, 10)                330       \n",
      "                                                                 \n",
      "=================================================================\n",
      "Total params: 13,962\n",
      "Trainable params: 13,962\n",
      "Non-trainable params: 0\n",
      "_________________________________________________________________\n"
     ]
    }
   ],
   "source": [
    "model.save('custom_model.h5')\n",
    "\n",
    "try:\n",
    "    model_loaded = load_model('custom_model.h5')\n",
    "except:\n",
    "    print(\"Failed to load model without the custom_objects dict\")\n",
    "    \n",
    "custom_objects = {\n",
    "    'my_custom_activation_fn': my_custom_activation_fn,\n",
    "    'my_custom_loss_fn': my_custom_loss_fn,\n",
    "    'my_custom_metric_fn': my_custom_metric_fn,\n",
    "}\n",
    "model_loaded = load_model('custom_model.h5', custom_objects=custom_objects)\n",
    "print(\"\\nLoaded model with custom_objects:\")\n",
    "model_loaded.summary()"
   ]
  },
  {
   "cell_type": "markdown",
   "metadata": {},
   "source": [
    "# Other Custom Keras Code\n",
    "## Custom Callbacks\n",
    "You can make your own callbacks. Your callback can do something at the start or end of either training, epochs or batches."
   ]
  },
  {
   "cell_type": "code",
   "execution_count": 22,
   "metadata": {},
   "outputs": [],
   "source": [
    "from tensorflow.keras.callbacks import LambdaCallback\n",
    "\n",
    "def on_epoch_end_custom(epoch, logs=None):\n",
    "    print(f'epoch number {epoch} ended')\n",
    "    print(f'logs:{logs}\\n')\n",
    "    \n",
    "my_callback = LambdaCallback(on_epoch_end=on_epoch_end_custom)"
   ]
  },
  {
   "cell_type": "markdown",
   "metadata": {},
   "source": [
    "And use it in fitting"
   ]
  },
  {
   "cell_type": "code",
   "execution_count": 23,
   "metadata": {},
   "outputs": [
    {
     "name": "stdout",
     "output_type": "stream",
     "text": [
      "epoch number 0 ended\n",
      "logs:{'loss': -0.07389189302921295, 'my_custom_metric_fn': -0.07389189302921295, 'val_loss': -0.07317245751619339, 'val_my_custom_metric_fn': -0.07317245751619339}\n",
      "\n",
      "epoch number 1 ended\n",
      "logs:{'loss': -0.07409676909446716, 'my_custom_metric_fn': -0.07409676909446716, 'val_loss': -0.07429993152618408, 'val_my_custom_metric_fn': -0.07429993152618408}\n",
      "\n",
      "epoch number 2 ended\n",
      "logs:{'loss': -0.07432261854410172, 'my_custom_metric_fn': -0.07432261854410172, 'val_loss': -0.07480642944574356, 'val_my_custom_metric_fn': -0.07480642944574356}\n",
      "\n",
      "epoch number 3 ended\n",
      "logs:{'loss': -0.0745009183883667, 'my_custom_metric_fn': -0.0745009183883667, 'val_loss': -0.07404427230358124, 'val_my_custom_metric_fn': -0.07404427230358124}\n",
      "\n",
      "epoch number 4 ended\n",
      "logs:{'loss': -0.07462943345308304, 'my_custom_metric_fn': -0.07462943345308304, 'val_loss': -0.0748521089553833, 'val_my_custom_metric_fn': -0.0748521089553833}\n",
      "\n"
     ]
    },
    {
     "data": {
      "text/plain": [
       "<keras.callbacks.History at 0x7f67c3f13ca0>"
      ]
     },
     "execution_count": 23,
     "metadata": {},
     "output_type": "execute_result"
    }
   ],
   "source": [
    "model.fit(x=train_images1, \n",
    "          y=train_labels,\n",
    "          epochs=5, \n",
    "          validation_data=(test_images1, test_labels),\n",
    "          verbose=0,\n",
    "          callbacks=[my_callback]\n",
    ")"
   ]
  },
  {
   "cell_type": "markdown",
   "metadata": {},
   "source": [
    "You can also inherit from the `Callback` class if you have a more complicated callback that can save information between calls."
   ]
  },
  {
   "cell_type": "code",
   "execution_count": 24,
   "metadata": {},
   "outputs": [],
   "source": [
    "from tensorflow.keras.callbacks import Callback\n",
    "class MyCallback(Callback):\n",
    "    def __init__(self, savethis):\n",
    "        super().__init__()\n",
    "        self.savethis = savethis\n",
    "   \n",
    "    def on_epoch_end(self, epoch, logs=None):\n",
    "        self.savethis *= 3\n",
    "        print(f'epoch number {epoch} ended. savethis={self.savethis}')"
   ]
  },
  {
   "cell_type": "markdown",
   "metadata": {},
   "source": [
    "Also use this callback in fitting"
   ]
  },
  {
   "cell_type": "code",
   "execution_count": 25,
   "metadata": {},
   "outputs": [
    {
     "name": "stdout",
     "output_type": "stream",
     "text": [
      "epoch number 0 ended. savethis=6\n",
      "epoch number 1 ended. savethis=18\n",
      "epoch number 2 ended. savethis=54\n",
      "epoch number 3 ended. savethis=162\n",
      "epoch number 4 ended. savethis=486\n"
     ]
    },
    {
     "data": {
      "text/plain": [
       "<keras.callbacks.History at 0x7f6801d6af40>"
      ]
     },
     "execution_count": 25,
     "metadata": {},
     "output_type": "execute_result"
    }
   ],
   "source": [
    "my_callback = MyCallback(2)\n",
    "model.fit(x=train_images1, \n",
    "          y=train_labels,\n",
    "          epochs=5, \n",
    "          validation_data=(test_images1, test_labels),\n",
    "          verbose=0,\n",
    "          callbacks=[my_callback]\n",
    ")"
   ]
  },
  {
   "cell_type": "markdown",
   "metadata": {},
   "source": [
    "You can look up all the other function arguments for the different types "
   ]
  },
  {
   "cell_type": "markdown",
   "metadata": {},
   "source": [
    "## Custom Layers\n",
    "You can make your own layer to do whatever math operations you want. To do this you have to learn some of the syntax that keras expects out of layers like how your layer changes the size and how it expects to be saved etc.\n",
    "If you really want to inherit from `Layer` see this [link](https://keras.io/layers/writing-your-own-keras-layers/) Example from the link:"
   ]
  },
  {
   "cell_type": "code",
   "execution_count": 26,
   "metadata": {},
   "outputs": [
    {
     "data": {
      "text/plain": [
       "<tf.Tensor: shape=(2, 5), dtype=float32, numpy=\n",
       "array([[-0.07307462, -0.10260031,  0.07377756, -0.0295639 , -0.05552077],\n",
       "       [-0.12197943, -0.24990977,  0.17443089, -0.06223369, -0.11289658]],\n",
       "      dtype=float32)>"
      ]
     },
     "execution_count": 26,
     "metadata": {},
     "output_type": "execute_result"
    }
   ],
   "source": [
    "# from the page https://keras.io/layers/writing-your-own-keras-layers/\n",
    "from tensorflow.keras.layers import Layer\n",
    "\n",
    "class MyLayer(Layer):\n",
    "\n",
    "    def __init__(self, output_dim, **kwargs):\n",
    "        self.output_dim = output_dim\n",
    "        super(MyLayer, self).__init__(**kwargs)\n",
    "\n",
    "    def build(self, input_shape):\n",
    "        # Create a trainable weight variable for this layer.\n",
    "        self.kernel = self.add_weight(name='kernel', \n",
    "                                      shape=(input_shape[1], self.output_dim),\n",
    "                                      initializer='uniform',\n",
    "                                      trainable=True)\n",
    "        super(MyLayer, self).build(input_shape)  # Be sure to call this at the end\n",
    "\n",
    "    def call(self, x):\n",
    "        return K.dot(x, self.kernel)\n",
    "\n",
    "    def compute_output_shape(self, input_shape):\n",
    "        return (input_shape[0], self.output_dim)\n",
    "    \n",
    "    # I added this function to show what you would need to do to \n",
    "    # save/load the layer via `model.save()` and `load_model`\n",
    "    def get_config(self):\n",
    "        config = {\n",
    "            'output_dim': self.output_dim,\n",
    "        }\n",
    "        base_config = super().get_config()\n",
    "        return {**base_config, **config}\n",
    "    \n",
    "# I added this to exercise the layer\n",
    "my_custom_layer = MyLayer(5)\n",
    "\n",
    "current_tensor = tf.constant([[1.0, 2.0], [3.0, 4.0]])\n",
    "\n",
    "current_tensor = my_custom_layer(current_tensor)\n",
    "current_tensor"
   ]
  },
  {
   "cell_type": "markdown",
   "metadata": {},
   "source": [
    "## Lambda Layer\n",
    "If you do not want to do all that work, you can also use the Lambda Layer which allows you to use a normal function like it was a full layer. This works if you are doing something simple but if you are doing more advanced work it may be better to just make a full layer.\n",
    "\n",
    "You can also use a function to calculate the output shape if you modify it.\n",
    "\n",
    "One more thing, the `arguments` argument can be used to give arguments so we do not need the `partial` function from `functools`"
   ]
  },
  {
   "cell_type": "code",
   "execution_count": 27,
   "metadata": {},
   "outputs": [
    {
     "data": {
      "text/plain": [
       "<tf.Tensor: shape=(2, 2), dtype=float32, numpy=\n",
       "array([[ 3., 12.],\n",
       "       [27., 48.]], dtype=float32)>"
      ]
     },
     "execution_count": 27,
     "metadata": {},
     "output_type": "execute_result"
    }
   ],
   "source": [
    "from tensorflow.keras.layers import Lambda\n",
    "\n",
    "def my_custom_layer_function(x, custom_arg):\n",
    "    return K.square(x) * custom_arg\n",
    "\n",
    "def my_custom_output_shape(input_shape):\n",
    "    return input_shape\n",
    "\n",
    "arguments = {\n",
    "    'custom_arg': 3,\n",
    "}\n",
    "\n",
    "my_custom_layer = Lambda(function=my_custom_layer_function, \n",
    "       output_shape=my_custom_output_shape, \n",
    "       mask=None, \n",
    "       arguments=arguments)\n",
    "\n",
    "current_tensor = tf.constant([[1.0, 2.0], [3.0, 4.0]])\n",
    "\n",
    "current_tensor = my_custom_layer(current_tensor)\n",
    "current_tensor"
   ]
  },
  {
   "cell_type": "markdown",
   "metadata": {},
   "source": [
    "## Custom Optimizers\n",
    "Maybe you think you are a super big brain person and have invented a new optimizer. If so you can make your own and use in in Keras. Once again you need to learn the API keras expects an optimizer to have in order to work seamlessly. I do not advise doing this since the build in ones work fine. I am not even going to write any code for this because I really do not expect anyone to do this"
   ]
  },
  {
   "cell_type": "markdown",
   "metadata": {},
   "source": [
    "## Other Custom Objects\n",
    "Model -- Since a Model inherits from Layer making a custom Model will probably look a lot like a custom Layer. Making a custom Model is only necessary if you are doing something really interesting with model specific functions like `fit`, `compile` etc.\n",
    "\n",
    "Regularizer -- Additions to the loss function like L1 or L2 penalties\n",
    "\n",
    "Weight Initializer -- New methods to make weigthts like He Initialization\n",
    "\n",
    "Constraints -- Functions to limit values for weights like MaxNorm"
   ]
  },
  {
   "cell_type": "code",
   "execution_count": null,
   "metadata": {},
   "outputs": [],
   "source": []
  }
 ],
 "metadata": {
  "kernelspec": {
   "display_name": "Python 3",
   "language": "python",
   "name": "python3"
  },
  "language_info": {
   "codemirror_mode": {
    "name": "ipython",
    "version": 3
   },
   "file_extension": ".py",
   "mimetype": "text/x-python",
   "name": "python",
   "nbconvert_exporter": "python",
   "pygments_lexer": "ipython3",
   "version": "3.8.10"
  }
 },
 "nbformat": 4,
 "nbformat_minor": 4
}
