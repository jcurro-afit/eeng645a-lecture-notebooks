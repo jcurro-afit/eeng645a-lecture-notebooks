{
 "cells": [
  {
   "cell_type": "markdown",
   "metadata": {},
   "source": [
    "## Manual Backprop Example\n",
    "Manually take a derivative for an \"ANN\"."
   ]
  },
  {
   "cell_type": "code",
   "execution_count": 48,
   "metadata": {},
   "outputs": [],
   "source": [
    "import numpy as np\n",
    "import numpy.random as rand\n",
    "import matplotlib.pyplot as plt"
   ]
  },
  {
   "cell_type": "markdown",
   "metadata": {},
   "source": [
    "fix the seed so we have reproducable results"
   ]
  },
  {
   "cell_type": "code",
   "execution_count": 49,
   "metadata": {},
   "outputs": [],
   "source": [
    "rand.seed(9)"
   ]
  },
  {
   "cell_type": "markdown",
   "metadata": {},
   "source": [
    "Next we will make some data arrays"
   ]
  },
  {
   "cell_type": "code",
   "execution_count": 50,
   "metadata": {},
   "outputs": [],
   "source": [
    "x = np.array([[-10, -3, -4]], dtype=float)\n",
    "y = np.array([[0.4, 0.5]], dtype=float)"
   ]
  },
  {
   "cell_type": "markdown",
   "metadata": {},
   "source": [
    "Also make some random weights and biases for the \"ANN\""
   ]
  },
  {
   "cell_type": "code",
   "execution_count": 51,
   "metadata": {},
   "outputs": [],
   "source": [
    "W = rand.randn(2, 3)\n",
    "b = rand.randn(2, 1)"
   ]
  },
  {
   "cell_type": "markdown",
   "metadata": {},
   "source": [
    "Also set the number of epochs we will do our training for and the learning rate"
   ]
  },
  {
   "cell_type": "code",
   "execution_count": 52,
   "metadata": {},
   "outputs": [],
   "source": [
    "epochs = 500\n",
    "learning_rate = 0.01"
   ]
  },
  {
   "cell_type": "markdown",
   "metadata": {},
   "source": [
    "Next we willl run code in loop to predict $\\mathbf{y}$ from the function $ \\hat{\\mathbf{y}} = \\textrm{tanh}\\left( \\mathbf{W} \\mathbf{x} + \\mathbf{b} \\right)$\n",
    "\n",
    "To do this we will minimize a loss function. Our loss function is  mean squared error between our predictions and the truth:\n",
    "\n",
    "$$\\mathcal{L} = \\sum_{i=0}^1{ \\left( y_i - \\hat{y}_i \\right)^2} $$\n",
    "\n",
    "To minimize our loss we need the partial derivative of the loss with repsect to the parameters $\\theta= \\begin{bmatrix} \\textrm{flatten}\\left(\\mathbf{W}\\right) & \\mathbf{b} \\end{bmatrix} $:\n",
    "$$\\frac{\\partial \\mathcal{L}}{\\partial \\theta}$$\n",
    "\n",
    "\n",
    "To determine this frist we will define the linear operation inside the tanh.\n",
    "\n",
    "$$ \\textrm{linops} = \\mathbf{W} \\mathbf{x} + \\mathbf{b}$$\n",
    "\n",
    "And now take the partial derivative of that with repsect to the two output values of linops\n",
    "$$ \\frac{\\partial \\textrm{linops}_0}{\\partial \\theta} =  \\begin{bmatrix} \\mathbf{x} & 1 \\\\ \\mathbf{0} & 0 \\end{bmatrix}$$\n",
    "\n",
    "$$ \\frac{\\partial \\textrm{linops}_1}{\\partial \\theta} =  \\begin{bmatrix} \\mathbf{0} & 0\\\\  \\mathbf{x} & 1 \\end{bmatrix}$$\n",
    "\n",
    "Thus the derivative of our loss is:\n",
    "\n",
    "$$\\frac{\\partial \\mathcal{L}}{\\partial \\theta}= \\sum_{n=0}^1  \\left( -2 \\left(y_n - \\hat{y}_n\\right) \\left( \\left(1- \\textrm{tanh}\\left(\\textrm{linops}_n\\right)^2 \\right) \\frac{\\partial \\textrm{linops}_n}{\\partial \\theta} \\right)    \\right)$$\n",
    "\n",
    "Finally we update our weights and biases with the derivative\n",
    "$$\\theta_{new} = \\theta_{old} - \\frac{\\partial \\mathcal{L}}{\\partial \\theta} \\times \\textrm{learning_rate} $$\n",
    "\n",
    "We repeat the weight updates for each epoch and see what our final loss is\n",
    "\n",
    "Note: The expected shapes of each numpy array are given in comments for clarity\n"
   ]
  },
  {
   "cell_type": "code",
   "execution_count": 53,
   "metadata": {},
   "outputs": [],
   "source": [
    "losses = [] # hold the loss value for each epoch\n",
    "\n",
    "for epoch in range(epochs):\n",
    "    linops = np.dot(W, x.transpose()) + b\n",
    "    # linops.shape = (2,1) => W(2,3) X x(1,3)' + b(2,1)\n",
    "    \n",
    "    linops = linops.transpose()\n",
    "    # linops.shape = (1, 2)\n",
    "    \n",
    "    y_hat = np.tanh(linops)\n",
    "    # y_hat.shape = (1, 2)\n",
    "    \n",
    "    loss = np.square(y[:,0]-y_hat[:,0]) + np.square(y[:,1]-y_hat[:,1])\n",
    "    # loss.shape = (1,)\n",
    "    \n",
    "    # save loss to plot\n",
    "    losses.append(loss)\n",
    "    \n",
    "    #if epoch % 10 == 0:\n",
    "        #print(\"Loss {0:5.4f}\".format(float(loss)))\n",
    "\n",
    "    # the derivative of linops for y[0] with repect to all 8 parameters\n",
    "    d_linops_0 = np.hstack([x[:,0], x[:,1], x[:,2], 1, np.zeros((4,))])\n",
    "    # d_linops.shape = (8,)\n",
    "    \n",
    "    # the derivative of linops for y[1] with repsect to all 8 parameters\n",
    "    d_linops_1 = np.hstack([np.zeros((4,)), x[:,0], x[:,1], x[:,2], 1])\n",
    "    # d_linops.shape = (8,)\n",
    "\n",
    "    d_linops = np.concatenate([d_linops_0[:, None], d_linops_1[:, None]], axis=1)\n",
    "    \n",
    "    # will hold all our the derivative of our loss with respect to all parameters (Weights and biases)\n",
    "    d_loss = np.zeros((1, 8))\n",
    "    # d_loss.shape = (1, 8)\n",
    "\n",
    "    # loop over all parameters\n",
    "    for i in range(8):\n",
    "        # this line is doing two sums which is summing over n\n",
    "        d_loss[:, i] = (-2 *(y[:,0]-y_hat[:, 0]) * (1 - np.square(np.tanh(linops)))[:, 0] * d_linops[i, 0]) + \\\n",
    "            (-2 *(y[:,1]-y_hat[:, 1]) * (1 - np.square(np.tanh(linops)))[:, 1] * d_linops[i, 1])\n",
    "    \n",
    "    # this is where we do the sum over first dim to get rid of it (usually this is the number of samples in a batch\n",
    "    # but we only have one sample)\n",
    "    d_loss = np.mean(d_loss, axis=0)\n",
    "    \n",
    "    # Update Weights\n",
    "    W = W - np.concatenate([d_loss[:3][None,:], d_loss[4:-1][None, :]], axis=0) * learning_rate\n",
    "    b = b - np.array([d_loss[3], d_loss[-1]]).reshape((2, 1)) * learning_rate\n",
    "    "
   ]
  },
  {
   "cell_type": "markdown",
   "metadata": {},
   "source": [
    "Now lets plot our loss over each epoch and check our final prediction $\\hat{\\mathbf{y}}$"
   ]
  },
  {
   "cell_type": "code",
   "execution_count": 54,
   "metadata": {},
   "outputs": [
    {
     "data": {
      "image/png": "[encoded data removed]",
      "text/plain": [
       "<Figure size 640x480 with 1 Axes>"
      ]
     },
     "metadata": {},
     "output_type": "display_data"
    }
   ],
   "source": [
    "plt.clf()\n",
    "plt.plot(losses)\n",
    "plt.xlabel('epoch')\n",
    "plt.ylabel('Loss')\n",
    "plt.show()"
   ]
  },
  {
   "cell_type": "markdown",
   "metadata": {},
   "source": [
    "Look our loss in this example went zero.\n",
    "Thus our final result is exactly right. This happened because  we only had one sample and which should be easy to memorize. In general a perfect prediction is actually bad because you usually don't want to memorize the input output pairs. Memorization would lead to poor generalization to new future input."
   ]
  },
  {
   "cell_type": "code",
   "execution_count": 55,
   "metadata": {},
   "outputs": [
    {
     "data": {
      "text/plain": [
       "array([[0.4, 0.5]])"
      ]
     },
     "execution_count": 55,
     "metadata": {},
     "output_type": "execute_result"
    }
   ],
   "source": [
    "y_hat"
   ]
  },
  {
   "cell_type": "markdown",
   "metadata": {},
   "source": [
    "Numpy agrees that all the values in each array are close to each other"
   ]
  },
  {
   "cell_type": "code",
   "execution_count": 56,
   "metadata": {},
   "outputs": [
    {
     "data": {
      "text/plain": [
       "True"
      ]
     },
     "execution_count": 56,
     "metadata": {},
     "output_type": "execute_result"
    }
   ],
   "source": [
    "np.allclose(y_hat, y)"
   ]
  },
  {
   "cell_type": "markdown",
   "metadata": {},
   "source": [
    "$\\hat{y} = f(x| \\theta)$"
   ]
  },
  {
   "cell_type": "code",
   "execution_count": null,
   "metadata": {},
   "outputs": [],
   "source": []
  }
 ],
 "metadata": {
  "kernelspec": {
   "display_name": "Python 3",
   "language": "python",
   "name": "python3"
  },
  "language_info": {
   "codemirror_mode": {
    "name": "ipython",
    "version": 3
   },
   "file_extension": ".py",
   "mimetype": "text/x-python",
   "name": "python",
   "nbconvert_exporter": "python",
   "pygments_lexer": "ipython3",
   "version": "3.8.10"
  }
 },
 "nbformat": 4,
 "nbformat_minor": 2
}
